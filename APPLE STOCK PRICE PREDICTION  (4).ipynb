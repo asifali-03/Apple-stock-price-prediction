{
 "cells": [
  {
   "cell_type": "code",
   "execution_count": 1,
   "id": "5403dc71",
   "metadata": {},
   "outputs": [
    {
     "name": "stdout",
     "output_type": "stream",
     "text": [
      "Requirement already satisfied: chart-studio in c:\\users\\syed\\anaconda3\\lib\\site-packages (1.1.0)Note: you may need to restart the kernel to use updated packages.\n",
      "\n",
      "Requirement already satisfied: retrying>=1.3.3 in c:\\users\\syed\\anaconda3\\lib\\site-packages (from chart-studio) (1.3.4)\n",
      "Requirement already satisfied: requests in c:\\users\\syed\\anaconda3\\lib\\site-packages (from chart-studio) (2.28.1)\n",
      "Requirement already satisfied: plotly in c:\\users\\syed\\anaconda3\\lib\\site-packages (from chart-studio) (5.9.0)\n",
      "Requirement already satisfied: six in c:\\users\\syed\\anaconda3\\lib\\site-packages (from chart-studio) (1.16.0)\n",
      "Requirement already satisfied: tenacity>=6.2.0 in c:\\users\\syed\\anaconda3\\lib\\site-packages (from plotly->chart-studio) (8.0.1)\n",
      "Requirement already satisfied: certifi>=2017.4.17 in c:\\users\\syed\\anaconda3\\lib\\site-packages (from requests->chart-studio) (2022.9.14)\n",
      "Requirement already satisfied: charset-normalizer<3,>=2 in c:\\users\\syed\\anaconda3\\lib\\site-packages (from requests->chart-studio) (2.0.4)\n",
      "Requirement already satisfied: idna<4,>=2.5 in c:\\users\\syed\\anaconda3\\lib\\site-packages (from requests->chart-studio) (3.3)\n",
      "Requirement already satisfied: urllib3<1.27,>=1.21.1 in c:\\users\\syed\\anaconda3\\lib\\site-packages (from requests->chart-studio) (1.26.11)\n"
     ]
    }
   ],
   "source": [
    "pip install chart-studio"
   ]
  },
  {
   "cell_type": "code",
   "execution_count": 2,
   "id": "98569f33",
   "metadata": {},
   "outputs": [
    {
     "data": {
      "text/html": [
       "        <script type=\"text/javascript\">\n",
       "        window.PlotlyConfig = {MathJaxConfig: 'local'};\n",
       "        if (window.MathJax && window.MathJax.Hub && window.MathJax.Hub.Config) {window.MathJax.Hub.Config({SVG: {font: \"STIX-Web\"}});}\n",
       "        if (typeof require !== 'undefined') {\n",
       "        require.undef(\"plotly\");\n",
       "        requirejs.config({\n",
       "            paths: {\n",
       "                'plotly': ['https://cdn.plot.ly/plotly-2.12.1.min']\n",
       "            }\n",
       "        });\n",
       "        require(['plotly'], function(Plotly) {\n",
       "            window._Plotly = Plotly;\n",
       "        });\n",
       "        }\n",
       "        </script>\n",
       "        "
      ]
     },
     "metadata": {},
     "output_type": "display_data"
    }
   ],
   "source": [
    "import pandas as pd\n",
    "import numpy as np\n",
    "import matplotlib.pyplot as plt\n",
    "%matplotlib inline\n",
    "\n",
    "import chart_studio.plotly as py\n",
    "import plotly.graph_objs as go\n",
    "from plotly.offline import plot\n",
    "\n",
    "from plotly.offline import download_plotlyjs,init_notebook_mode,plot,iplot\n",
    "init_notebook_mode(connected=True)"
   ]
  },
  {
   "cell_type": "code",
   "execution_count": 3,
   "id": "2f6e819f",
   "metadata": {},
   "outputs": [
    {
     "data": {
      "text/html": [
       "<div>\n",
       "<style scoped>\n",
       "    .dataframe tbody tr th:only-of-type {\n",
       "        vertical-align: middle;\n",
       "    }\n",
       "\n",
       "    .dataframe tbody tr th {\n",
       "        vertical-align: top;\n",
       "    }\n",
       "\n",
       "    .dataframe thead th {\n",
       "        text-align: right;\n",
       "    }\n",
       "</style>\n",
       "<table border=\"1\" class=\"dataframe\">\n",
       "  <thead>\n",
       "    <tr style=\"text-align: right;\">\n",
       "      <th></th>\n",
       "      <th>Date</th>\n",
       "      <th>Open</th>\n",
       "      <th>High</th>\n",
       "      <th>Low</th>\n",
       "      <th>Close</th>\n",
       "      <th>Adj Close</th>\n",
       "      <th>Volume</th>\n",
       "    </tr>\n",
       "  </thead>\n",
       "  <tbody>\n",
       "    <tr>\n",
       "      <th>0</th>\n",
       "      <td>2020-12-03</td>\n",
       "      <td>123.519997</td>\n",
       "      <td>123.779999</td>\n",
       "      <td>122.209999</td>\n",
       "      <td>122.940002</td>\n",
       "      <td>121.481689</td>\n",
       "      <td>78967600</td>\n",
       "    </tr>\n",
       "    <tr>\n",
       "      <th>1</th>\n",
       "      <td>2020-12-04</td>\n",
       "      <td>122.599998</td>\n",
       "      <td>122.860001</td>\n",
       "      <td>121.519997</td>\n",
       "      <td>122.250000</td>\n",
       "      <td>120.799881</td>\n",
       "      <td>78260400</td>\n",
       "    </tr>\n",
       "    <tr>\n",
       "      <th>2</th>\n",
       "      <td>2020-12-07</td>\n",
       "      <td>122.309998</td>\n",
       "      <td>124.570000</td>\n",
       "      <td>122.250000</td>\n",
       "      <td>123.750000</td>\n",
       "      <td>122.282082</td>\n",
       "      <td>86712000</td>\n",
       "    </tr>\n",
       "    <tr>\n",
       "      <th>3</th>\n",
       "      <td>2020-12-08</td>\n",
       "      <td>124.370003</td>\n",
       "      <td>124.980003</td>\n",
       "      <td>123.089996</td>\n",
       "      <td>124.379997</td>\n",
       "      <td>122.904617</td>\n",
       "      <td>82225500</td>\n",
       "    </tr>\n",
       "    <tr>\n",
       "      <th>4</th>\n",
       "      <td>2020-12-09</td>\n",
       "      <td>124.529999</td>\n",
       "      <td>125.949997</td>\n",
       "      <td>121.000000</td>\n",
       "      <td>121.779999</td>\n",
       "      <td>120.335449</td>\n",
       "      <td>115089200</td>\n",
       "    </tr>\n",
       "    <tr>\n",
       "      <th>5</th>\n",
       "      <td>2020-12-10</td>\n",
       "      <td>120.500000</td>\n",
       "      <td>123.870003</td>\n",
       "      <td>120.150002</td>\n",
       "      <td>123.239998</td>\n",
       "      <td>121.778137</td>\n",
       "      <td>81312200</td>\n",
       "    </tr>\n",
       "    <tr>\n",
       "      <th>6</th>\n",
       "      <td>2020-12-11</td>\n",
       "      <td>122.430000</td>\n",
       "      <td>122.760002</td>\n",
       "      <td>120.550003</td>\n",
       "      <td>122.410004</td>\n",
       "      <td>120.957977</td>\n",
       "      <td>86939800</td>\n",
       "    </tr>\n",
       "    <tr>\n",
       "      <th>7</th>\n",
       "      <td>2020-12-14</td>\n",
       "      <td>122.599998</td>\n",
       "      <td>123.349998</td>\n",
       "      <td>121.540001</td>\n",
       "      <td>121.779999</td>\n",
       "      <td>120.335449</td>\n",
       "      <td>79184500</td>\n",
       "    </tr>\n",
       "    <tr>\n",
       "      <th>8</th>\n",
       "      <td>2020-12-15</td>\n",
       "      <td>124.339996</td>\n",
       "      <td>127.900002</td>\n",
       "      <td>124.129997</td>\n",
       "      <td>127.879997</td>\n",
       "      <td>126.363091</td>\n",
       "      <td>157243700</td>\n",
       "    </tr>\n",
       "    <tr>\n",
       "      <th>9</th>\n",
       "      <td>2020-12-16</td>\n",
       "      <td>127.410004</td>\n",
       "      <td>128.369995</td>\n",
       "      <td>126.559998</td>\n",
       "      <td>127.809998</td>\n",
       "      <td>126.293915</td>\n",
       "      <td>98208600</td>\n",
       "    </tr>\n",
       "  </tbody>\n",
       "</table>\n",
       "</div>"
      ],
      "text/plain": [
       "         Date        Open        High         Low       Close   Adj Close  \\\n",
       "0  2020-12-03  123.519997  123.779999  122.209999  122.940002  121.481689   \n",
       "1  2020-12-04  122.599998  122.860001  121.519997  122.250000  120.799881   \n",
       "2  2020-12-07  122.309998  124.570000  122.250000  123.750000  122.282082   \n",
       "3  2020-12-08  124.370003  124.980003  123.089996  124.379997  122.904617   \n",
       "4  2020-12-09  124.529999  125.949997  121.000000  121.779999  120.335449   \n",
       "5  2020-12-10  120.500000  123.870003  120.150002  123.239998  121.778137   \n",
       "6  2020-12-11  122.430000  122.760002  120.550003  122.410004  120.957977   \n",
       "7  2020-12-14  122.599998  123.349998  121.540001  121.779999  120.335449   \n",
       "8  2020-12-15  124.339996  127.900002  124.129997  127.879997  126.363091   \n",
       "9  2020-12-16  127.410004  128.369995  126.559998  127.809998  126.293915   \n",
       "\n",
       "      Volume  \n",
       "0   78967600  \n",
       "1   78260400  \n",
       "2   86712000  \n",
       "3   82225500  \n",
       "4  115089200  \n",
       "5   81312200  \n",
       "6   86939800  \n",
       "7   79184500  \n",
       "8  157243700  \n",
       "9   98208600  "
      ]
     },
     "execution_count": 3,
     "metadata": {},
     "output_type": "execute_result"
    }
   ],
   "source": [
    "apple_data=pd.read_csv(\"AAPL (1).csv\")\n",
    "apple_data.head(10)"
   ]
  },
  {
   "cell_type": "code",
   "execution_count": 4,
   "id": "94a3c592",
   "metadata": {},
   "outputs": [],
   "source": [
    "apple_data['Date']=pd.to_datetime(apple_data['Date'])"
   ]
  },
  {
   "cell_type": "code",
   "execution_count": 5,
   "id": "fc64a515",
   "metadata": {
    "scrolled": true
   },
   "outputs": [
    {
     "name": "stdout",
     "output_type": "stream",
     "text": [
      "Dataset contains APPLE stock prices between 2020-12-03 00:00:00 2022-12-02 00:00:00\n",
      "Total days =729 days 00:00:00\n"
     ]
    }
   ],
   "source": [
    "print(f\"Dataset contains APPLE stock prices between {apple_data.Date.min()} {apple_data.Date.max()}\")\n",
    "print(f\"Total days ={(apple_data.Date.max()-apple_data.Date.min())}\")"
   ]
  },
  {
   "cell_type": "code",
   "execution_count": 6,
   "id": "1908e224",
   "metadata": {},
   "outputs": [
    {
     "data": {
      "text/plain": [
       "(504, 7)"
      ]
     },
     "execution_count": 6,
     "metadata": {},
     "output_type": "execute_result"
    }
   ],
   "source": [
    "apple_data.shape"
   ]
  },
  {
   "cell_type": "code",
   "execution_count": 7,
   "id": "ee61e995",
   "metadata": {},
   "outputs": [
    {
     "name": "stdout",
     "output_type": "stream",
     "text": [
      "<class 'pandas.core.frame.DataFrame'>\n",
      "RangeIndex: 504 entries, 0 to 503\n",
      "Data columns (total 7 columns):\n",
      " #   Column     Non-Null Count  Dtype         \n",
      "---  ------     --------------  -----         \n",
      " 0   Date       504 non-null    datetime64[ns]\n",
      " 1   Open       504 non-null    float64       \n",
      " 2   High       504 non-null    float64       \n",
      " 3   Low        504 non-null    float64       \n",
      " 4   Close      504 non-null    float64       \n",
      " 5   Adj Close  504 non-null    float64       \n",
      " 6   Volume     504 non-null    int64         \n",
      "dtypes: datetime64[ns](1), float64(5), int64(1)\n",
      "memory usage: 27.7 KB\n"
     ]
    }
   ],
   "source": [
    "apple_data.info()"
   ]
  },
  {
   "cell_type": "code",
   "execution_count": 8,
   "id": "47d5c442",
   "metadata": {},
   "outputs": [
    {
     "data": {
      "text/html": [
       "<div>\n",
       "<style scoped>\n",
       "    .dataframe tbody tr th:only-of-type {\n",
       "        vertical-align: middle;\n",
       "    }\n",
       "\n",
       "    .dataframe tbody tr th {\n",
       "        vertical-align: top;\n",
       "    }\n",
       "\n",
       "    .dataframe thead th {\n",
       "        text-align: right;\n",
       "    }\n",
       "</style>\n",
       "<table border=\"1\" class=\"dataframe\">\n",
       "  <thead>\n",
       "    <tr style=\"text-align: right;\">\n",
       "      <th></th>\n",
       "      <th>Open</th>\n",
       "      <th>High</th>\n",
       "      <th>Low</th>\n",
       "      <th>Close</th>\n",
       "      <th>Adj Close</th>\n",
       "      <th>Volume</th>\n",
       "    </tr>\n",
       "  </thead>\n",
       "  <tbody>\n",
       "    <tr>\n",
       "      <th>count</th>\n",
       "      <td>504.000000</td>\n",
       "      <td>504.000000</td>\n",
       "      <td>504.000000</td>\n",
       "      <td>504.000000</td>\n",
       "      <td>504.000000</td>\n",
       "      <td>5.040000e+02</td>\n",
       "    </tr>\n",
       "    <tr>\n",
       "      <th>mean</th>\n",
       "      <td>147.396171</td>\n",
       "      <td>149.189842</td>\n",
       "      <td>145.691547</td>\n",
       "      <td>147.516310</td>\n",
       "      <td>146.636255</td>\n",
       "      <td>9.016616e+07</td>\n",
       "    </tr>\n",
       "    <tr>\n",
       "      <th>std</th>\n",
       "      <td>15.798971</td>\n",
       "      <td>16.017025</td>\n",
       "      <td>15.609578</td>\n",
       "      <td>15.832322</td>\n",
       "      <td>16.009778</td>\n",
       "      <td>2.720061e+07</td>\n",
       "    </tr>\n",
       "    <tr>\n",
       "      <th>min</th>\n",
       "      <td>119.029999</td>\n",
       "      <td>120.400002</td>\n",
       "      <td>116.209999</td>\n",
       "      <td>116.360001</td>\n",
       "      <td>115.151566</td>\n",
       "      <td>3.519590e+07</td>\n",
       "    </tr>\n",
       "    <tr>\n",
       "      <th>25%</th>\n",
       "      <td>134.704994</td>\n",
       "      <td>135.710003</td>\n",
       "      <td>133.334999</td>\n",
       "      <td>134.482498</td>\n",
       "      <td>133.085854</td>\n",
       "      <td>7.127635e+07</td>\n",
       "    </tr>\n",
       "    <tr>\n",
       "      <th>50%</th>\n",
       "      <td>146.875000</td>\n",
       "      <td>148.720001</td>\n",
       "      <td>145.555001</td>\n",
       "      <td>147.049996</td>\n",
       "      <td>146.316201</td>\n",
       "      <td>8.563055e+07</td>\n",
       "    </tr>\n",
       "    <tr>\n",
       "      <th>75%</th>\n",
       "      <td>159.575004</td>\n",
       "      <td>161.885002</td>\n",
       "      <td>156.577499</td>\n",
       "      <td>159.240002</td>\n",
       "      <td>158.598656</td>\n",
       "      <td>1.037679e+08</td>\n",
       "    </tr>\n",
       "    <tr>\n",
       "      <th>max</th>\n",
       "      <td>182.630005</td>\n",
       "      <td>182.940002</td>\n",
       "      <td>179.119995</td>\n",
       "      <td>182.009995</td>\n",
       "      <td>180.959747</td>\n",
       "      <td>1.954327e+08</td>\n",
       "    </tr>\n",
       "  </tbody>\n",
       "</table>\n",
       "</div>"
      ],
      "text/plain": [
       "             Open        High         Low       Close   Adj Close  \\\n",
       "count  504.000000  504.000000  504.000000  504.000000  504.000000   \n",
       "mean   147.396171  149.189842  145.691547  147.516310  146.636255   \n",
       "std     15.798971   16.017025   15.609578   15.832322   16.009778   \n",
       "min    119.029999  120.400002  116.209999  116.360001  115.151566   \n",
       "25%    134.704994  135.710003  133.334999  134.482498  133.085854   \n",
       "50%    146.875000  148.720001  145.555001  147.049996  146.316201   \n",
       "75%    159.575004  161.885002  156.577499  159.240002  158.598656   \n",
       "max    182.630005  182.940002  179.119995  182.009995  180.959747   \n",
       "\n",
       "             Volume  \n",
       "count  5.040000e+02  \n",
       "mean   9.016616e+07  \n",
       "std    2.720061e+07  \n",
       "min    3.519590e+07  \n",
       "25%    7.127635e+07  \n",
       "50%    8.563055e+07  \n",
       "75%    1.037679e+08  \n",
       "max    1.954327e+08  "
      ]
     },
     "execution_count": 8,
     "metadata": {},
     "output_type": "execute_result"
    }
   ],
   "source": [
    "apple_data.describe()"
   ]
  },
  {
   "cell_type": "code",
   "execution_count": 9,
   "id": "d2351ba1",
   "metadata": {},
   "outputs": [
    {
     "data": {
      "text/plain": [
       "<AxesSubplot:>"
      ]
     },
     "execution_count": 9,
     "metadata": {},
     "output_type": "execute_result"
    },
    {
     "data": {
      "image/png": "[encoded data removed]",
      "text/plain": [
       "<Figure size 640x480 with 1 Axes>"
      ]
     },
     "metadata": {},
     "output_type": "display_data"
    }
   ],
   "source": [
    "apple_data[['Open','High','Low','Close','Adj Close']].plot(kind='box')"
   ]
  },
  {
   "cell_type": "code",
   "execution_count": 10,
   "id": "b6f40e9d",
   "metadata": {},
   "outputs": [],
   "source": [
    "layout = go.Layout(\n",
    "        title='Stock Prices of APPLE',\n",
    "            xaxis=dict(title='Date',titlefont=dict(family='Courier New, monospace',size=18,color='#7f7f7f')),\n",
    "\n",
    "            yaxis=dict(title='Price',titlefont=dict(family='Courier New, monospace' ,size=18,color=\"#7f7f7f\"))\n",
    ")\n",
    "apple = [{'x':apple_data['Date'], 'y': apple_data['Close']}]\n",
    "\n",
    "plot = go.Figure(data=apple, layout=layout)\n"
   ]
  },
  {
   "cell_type": "code",
   "execution_count": 11,
   "id": "e72b1558",
   "metadata": {},
   "outputs": [
    {
     "data": {
      "application/vnd.plotly.v1+json": {
       "config": {
        "linkText": "Export to plot.ly",
        "plotlyServerURL": "https://plot.ly",
        "showLink": false
       },
       "data": [
        {
         "type": "scatter",
         "x": [
          "2020-12-03T00:00:00",
          "2020-12-04T00:00:00",
          "2020-12-07T00:00:00",
          "2020-12-08T00:00:00",
          "2020-12-09T00:00:00",
          "2020-12-10T00:00:00",
          "2020-12-11T00:00:00",
          "2020-12-14T00:00:00",
          "2020-12-15T00:00:00",
          "2020-12-16T00:00:00",
          "2020-12-17T00:00:00",
          "2020-12-18T00:00:00",
          "2020-12-21T00:00:00",
          "2020-12-22T00:00:00",
          "2020-12-23T00:00:00",
          "2020-12-24T00:00:00",
          "2020-12-28T00:00:00",
          "2020-12-29T00:00:00",
          "2020-12-30T00:00:00",
          "2020-12-31T00:00:00",
          "2021-01-04T00:00:00",
          "2021-01-05T00:00:00",
          "2021-01-06T00:00:00",
          "2021-01-07T00:00:00",
          "2021-01-08T00:00:00",
          "2021-01-11T00:00:00",
          "2021-01-12T00:00:00",
          "2021-01-13T00:00:00",
          "2021-01-14T00:00:00",
          "2021-01-15T00:00:00",
          "2021-01-19T00:00:00",
          "2021-01-20T00:00:00",
          "2021-01-21T00:00:00",
          "2021-01-22T00:00:00",
          "2021-01-25T00:00:00",
          "2021-01-26T00:00:00",
          "2021-01-27T00:00:00",
          "2021-01-28T00:00:00",
          "2021-01-29T00:00:00",
          "2021-02-01T00:00:00",
          "2021-02-02T00:00:00",
          "2021-02-03T00:00:00",
          "2021-02-04T00:00:00",
          "2021-02-05T00:00:00",
          "2021-02-08T00:00:00",
          "2021-02-09T00:00:00",
          "2021-02-10T00:00:00",
          "2021-02-11T00:00:00",
          "2021-02-12T00:00:00",
          "2021-02-16T00:00:00",
          "2021-02-17T00:00:00",
          "2021-02-18T00:00:00",
          "2021-02-19T00:00:00",
          "2021-02-22T00:00:00",
          "2021-02-23T00:00:00",
          "2021-02-24T00:00:00",
          "2021-02-25T00:00:00",
          "2021-02-26T00:00:00",
          "2021-03-01T00:00:00",
          "2021-03-02T00:00:00",
          "2021-03-03T00:00:00",
          "2021-03-04T00:00:00",
          "2021-03-05T00:00:00",
          "2021-03-08T00:00:00",
          "2021-03-09T00:00:00",
          "2021-03-10T00:00:00",
          "2021-03-11T00:00:00",
          "2021-03-12T00:00:00",
          "2021-03-15T00:00:00",
          "2021-03-16T00:00:00",
          "2021-03-17T00:00:00",
          "2021-03-18T00:00:00",
          "2021-03-19T00:00:00",
          "2021-03-22T00:00:00",
          "2021-03-23T00:00:00",
          "2021-03-24T00:00:00",
          "2021-03-25T00:00:00",
          "2021-03-26T00:00:00",
          "2021-03-29T00:00:00",
          "2021-03-30T00:00:00",
          "2021-03-31T00:00:00",
          "2021-04-01T00:00:00",
          "2021-04-05T00:00:00",
          "2021-04-06T00:00:00",
          "2021-04-07T00:00:00",
          "2021-04-08T00:00:00",
          "2021-04-09T00:00:00",
          "2021-04-12T00:00:00",
          "2021-04-13T00:00:00",
          "2021-04-14T00:00:00",
          "2021-04-15T00:00:00",
          "2021-04-16T00:00:00",
          "2021-04-19T00:00:00",
          "2021-04-20T00:00:00",
          "2021-04-21T00:00:00",
          "2021-04-22T00:00:00",
          "2021-04-23T00:00:00",
          "2021-04-26T00:00:00",
          "2021-04-27T00:00:00",
          "2021-04-28T00:00:00",
          "2021-04-29T00:00:00",
          "2021-04-30T00:00:00",
          "2021-05-03T00:00:00",
          "2021-05-04T00:00:00",
          "2021-05-05T00:00:00",
          "2021-05-06T00:00:00",
          "2021-05-07T00:00:00",
          "2021-05-10T00:00:00",
          "2021-05-11T00:00:00",
          "2021-05-12T00:00:00",
          "2021-05-13T00:00:00",
          "2021-05-14T00:00:00",
          "2021-05-17T00:00:00",
          "2021-05-18T00:00:00",
          "2021-05-19T00:00:00",
          "2021-05-20T00:00:00",
          "2021-05-21T00:00:00",
          "2021-05-24T00:00:00",
          "2021-05-25T00:00:00",
          "2021-05-26T00:00:00",
          "2021-05-27T00:00:00",
          "2021-05-28T00:00:00",
          "2021-06-01T00:00:00",
          "2021-06-02T00:00:00",
          "2021-06-03T00:00:00",
          "2021-06-04T00:00:00",
          "2021-06-07T00:00:00",
          "2021-06-08T00:00:00",
          "2021-06-09T00:00:00",
          "2021-06-10T00:00:00",
          "2021-06-11T00:00:00",
          "2021-06-14T00:00:00",
          "2021-06-15T00:00:00",
          "2021-06-16T00:00:00",
          "2021-06-17T00:00:00",
          "2021-06-18T00:00:00",
          "2021-06-21T00:00:00",
          "2021-06-22T00:00:00",
          "2021-06-23T00:00:00",
          "2021-06-24T00:00:00",
          "2021-06-25T00:00:00",
          "2021-06-28T00:00:00",
          "2021-06-29T00:00:00",
          "2021-06-30T00:00:00",
          "2021-07-01T00:00:00",
          "2021-07-02T00:00:00",
          "2021-07-06T00:00:00",
          "2021-07-07T00:00:00",
          "2021-07-08T00:00:00",
          "2021-07-09T00:00:00",
          "2021-07-12T00:00:00",
          "2021-07-13T00:00:00",
          "2021-07-14T00:00:00",
          "2021-07-15T00:00:00",
          "2021-07-16T00:00:00",
          "2021-07-19T00:00:00",
          "2021-07-20T00:00:00",
          "2021-07-21T00:00:00",
          "2021-07-22T00:00:00",
          "2021-07-23T00:00:00",
          "2021-07-26T00:00:00",
          "2021-07-27T00:00:00",
          "2021-07-28T00:00:00",
          "2021-07-29T00:00:00",
          "2021-07-30T00:00:00",
          "2021-08-02T00:00:00",
          "2021-08-03T00:00:00",
          "2021-08-04T00:00:00",
          "2021-08-05T00:00:00",
          "2021-08-06T00:00:00",
          "2021-08-09T00:00:00",
          "2021-08-10T00:00:00",
          "2021-08-11T00:00:00",
          "2021-08-12T00:00:00",
          "2021-08-13T00:00:00",
          "2021-08-16T00:00:00",
          "2021-08-17T00:00:00",
          "2021-08-18T00:00:00",
          "2021-08-19T00:00:00",
          "2021-08-20T00:00:00",
          "2021-08-23T00:00:00",
          "2021-08-24T00:00:00",
          "2021-08-25T00:00:00",
          "2021-08-26T00:00:00",
          "2021-08-27T00:00:00",
          "2021-08-30T00:00:00",
          "2021-08-31T00:00:00",
          "2021-09-01T00:00:00",
          "2021-09-02T00:00:00",
          "2021-09-03T00:00:00",
          "2021-09-07T00:00:00",
          "2021-09-08T00:00:00",
          "2021-09-09T00:00:00",
          "2021-09-10T00:00:00",
          "2021-09-13T00:00:00",
          "2021-09-14T00:00:00",
          "2021-09-15T00:00:00",
          "2021-09-16T00:00:00",
          "2021-09-17T00:00:00",
          "2021-09-20T00:00:00",
          "2021-09-21T00:00:00",
          "2021-09-22T00:00:00",
          "2021-09-23T00:00:00",
          "2021-09-24T00:00:00",
          "2021-09-27T00:00:00",
          "2021-09-28T00:00:00",
          "2021-09-29T00:00:00",
          "2021-09-30T00:00:00",
          "2021-10-01T00:00:00",
          "2021-10-04T00:00:00",
          "2021-10-05T00:00:00",
          "2021-10-06T00:00:00",
          "2021-10-07T00:00:00",
          "2021-10-08T00:00:00",
          "2021-10-11T00:00:00",
          "2021-10-12T00:00:00",
          "2021-10-13T00:00:00",
          "2021-10-14T00:00:00",
          "2021-10-15T00:00:00",
          "2021-10-18T00:00:00",
          "2021-10-19T00:00:00",
          "2021-10-20T00:00:00",
          "2021-10-21T00:00:00",
          "2021-10-22T00:00:00",
          "2021-10-25T00:00:00",
          "2021-10-26T00:00:00",
          "2021-10-27T00:00:00",
          "2021-10-28T00:00:00",
          "2021-10-29T00:00:00",
          "2021-11-01T00:00:00",
          "2021-11-02T00:00:00",
          "2021-11-03T00:00:00",
          "2021-11-04T00:00:00",
          "2021-11-05T00:00:00",
          "2021-11-08T00:00:00",
          "2021-11-09T00:00:00",
          "2021-11-10T00:00:00",
          "2021-11-11T00:00:00",
          "2021-11-12T00:00:00",
          "2021-11-15T00:00:00",
          "2021-11-16T00:00:00",
          "2021-11-17T00:00:00",
          "2021-11-18T00:00:00",
          "2021-11-19T00:00:00",
          "2021-11-22T00:00:00",
          "2021-11-23T00:00:00",
          "2021-11-24T00:00:00",
          "2021-11-26T00:00:00",
          "2021-11-29T00:00:00",
          "2021-11-30T00:00:00",
          "2021-12-01T00:00:00",
          "2021-12-02T00:00:00",
          "2021-12-03T00:00:00",
          "2021-12-06T00:00:00",
          "2021-12-07T00:00:00",
          "2021-12-08T00:00:00",
          "2021-12-09T00:00:00",
          "2021-12-10T00:00:00",
          "2021-12-13T00:00:00",
          "2021-12-14T00:00:00",
          "2021-12-15T00:00:00",
          "2021-12-16T00:00:00",
          "2021-12-17T00:00:00",
          "2021-12-20T00:00:00",
          "2021-12-21T00:00:00",
          "2021-12-22T00:00:00",
          "2021-12-23T00:00:00",
          "2021-12-27T00:00:00",
          "2021-12-28T00:00:00",
          "2021-12-29T00:00:00",
          "2021-12-30T00:00:00",
          "2021-12-31T00:00:00",
          "2022-01-03T00:00:00",
          "2022-01-04T00:00:00",
          "2022-01-05T00:00:00",
          "2022-01-06T00:00:00",
          "2022-01-07T00:00:00",
          "2022-01-10T00:00:00",
          "2022-01-11T00:00:00",
          "2022-01-12T00:00:00",
          "2022-01-13T00:00:00",
          "2022-01-14T00:00:00",
          "2022-01-18T00:00:00",
          "2022-01-19T00:00:00",
          "2022-01-20T00:00:00",
          "2022-01-21T00:00:00",
          "2022-01-24T00:00:00",
          "2022-01-25T00:00:00",
          "2022-01-26T00:00:00",
          "2022-01-27T00:00:00",
          "2022-01-28T00:00:00",
          "2022-01-31T00:00:00",
          "2022-02-01T00:00:00",
          "2022-02-02T00:00:00",
          "2022-02-03T00:00:00",
          "2022-02-04T00:00:00",
          "2022-02-07T00:00:00",
          "2022-02-08T00:00:00",
          "2022-02-09T00:00:00",
          "2022-02-10T00:00:00",
          "2022-02-11T00:00:00",
          "2022-02-14T00:00:00",
          "2022-02-15T00:00:00",
          "2022-02-16T00:00:00",
          "2022-02-17T00:00:00",
          "2022-02-18T00:00:00",
          "2022-02-22T00:00:00",
          "2022-02-23T00:00:00",
          "2022-02-24T00:00:00",
          "2022-02-25T00:00:00",
          "2022-02-28T00:00:00",
          "2022-03-01T00:00:00",
          "2022-03-02T00:00:00",
          "2022-03-03T00:00:00",
          "2022-03-04T00:00:00",
          "2022-03-07T00:00:00",
          "2022-03-08T00:00:00",
          "2022-03-09T00:00:00",
          "2022-03-10T00:00:00",
          "2022-03-11T00:00:00",
          "2022-03-14T00:00:00",
          "2022-03-15T00:00:00",
          "2022-03-16T00:00:00",
          "2022-03-17T00:00:00",
          "2022-03-18T00:00:00",
          "2022-03-21T00:00:00",
          "2022-03-22T00:00:00",
          "2022-03-23T00:00:00",
          "2022-03-24T00:00:00",
          "2022-03-25T00:00:00",
          "2022-03-28T00:00:00",
          "2022-03-29T00:00:00",
          "2022-03-30T00:00:00",
          "2022-03-31T00:00:00",
          "2022-04-01T00:00:00",
          "2022-04-04T00:00:00",
          "2022-04-05T00:00:00",
          "2022-04-06T00:00:00",
          "2022-04-07T00:00:00",
          "2022-04-08T00:00:00",
          "2022-04-11T00:00:00",
          "2022-04-12T00:00:00",
          "2022-04-13T00:00:00",
          "2022-04-14T00:00:00",
          "2022-04-18T00:00:00",
          "2022-04-19T00:00:00",
          "2022-04-20T00:00:00",
          "2022-04-21T00:00:00",
          "2022-04-22T00:00:00",
          "2022-04-25T00:00:00",
          "2022-04-26T00:00:00",
          "2022-04-27T00:00:00",
          "2022-04-28T00:00:00",
          "2022-04-29T00:00:00",
          "2022-05-02T00:00:00",
          "2022-05-03T00:00:00",
          "2022-05-04T00:00:00",
          "2022-05-05T00:00:00",
          "2022-05-06T00:00:00",
          "2022-05-09T00:00:00",
          "2022-05-10T00:00:00",
          "2022-05-11T00:00:00",
          "2022-05-12T00:00:00",
          "2022-05-13T00:00:00",
          "2022-05-16T00:00:00",
          "2022-05-17T00:00:00",
          "2022-05-18T00:00:00",
          "2022-05-19T00:00:00",
          "2022-05-20T00:00:00",
          "2022-05-23T00:00:00",
          "2022-05-24T00:00:00",
          "2022-05-25T00:00:00",
          "2022-05-26T00:00:00",
          "2022-05-27T00:00:00",
          "2022-05-31T00:00:00",
          "2022-06-01T00:00:00",
          "2022-06-02T00:00:00",
          "2022-06-03T00:00:00",
          "2022-06-06T00:00:00",
          "2022-06-07T00:00:00",
          "2022-06-08T00:00:00",
          "2022-06-09T00:00:00",
          "2022-06-10T00:00:00",
          "2022-06-13T00:00:00",
          "2022-06-14T00:00:00",
          "2022-06-15T00:00:00",
          "2022-06-16T00:00:00",
          "2022-06-17T00:00:00",
          "2022-06-21T00:00:00",
          "2022-06-22T00:00:00",
          "2022-06-23T00:00:00",
          "2022-06-24T00:00:00",
          "2022-06-27T00:00:00",
          "2022-06-28T00:00:00",
          "2022-06-29T00:00:00",
          "2022-06-30T00:00:00",
          "2022-07-01T00:00:00",
          "2022-07-05T00:00:00",
          "2022-07-06T00:00:00",
          "2022-07-07T00:00:00",
          "2022-07-08T00:00:00",
          "2022-07-11T00:00:00",
          "2022-07-12T00:00:00",
          "2022-07-13T00:00:00",
          "2022-07-14T00:00:00",
          "2022-07-15T00:00:00",
          "2022-07-18T00:00:00",
          "2022-07-19T00:00:00",
          "2022-07-20T00:00:00",
          "2022-07-21T00:00:00",
          "2022-07-22T00:00:00",
          "2022-07-25T00:00:00",
          "2022-07-26T00:00:00",
          "2022-07-27T00:00:00",
          "2022-07-28T00:00:00",
          "2022-07-29T00:00:00",
          "2022-08-01T00:00:00",
          "2022-08-02T00:00:00",
          "2022-08-03T00:00:00",
          "2022-08-04T00:00:00",
          "2022-08-05T00:00:00",
          "2022-08-08T00:00:00",
          "2022-08-09T00:00:00",
          "2022-08-10T00:00:00",
          "2022-08-11T00:00:00",
          "2022-08-12T00:00:00",
          "2022-08-15T00:00:00",
          "2022-08-16T00:00:00",
          "2022-08-17T00:00:00",
          "2022-08-18T00:00:00",
          "2022-08-19T00:00:00",
          "2022-08-22T00:00:00",
          "2022-08-23T00:00:00",
          "2022-08-24T00:00:00",
          "2022-08-25T00:00:00",
          "2022-08-26T00:00:00",
          "2022-08-29T00:00:00",
          "2022-08-30T00:00:00",
          "2022-08-31T00:00:00",
          "2022-09-01T00:00:00",
          "2022-09-02T00:00:00",
          "2022-09-06T00:00:00",
          "2022-09-07T00:00:00",
          "2022-09-08T00:00:00",
          "2022-09-09T00:00:00",
          "2022-09-12T00:00:00",
          "2022-09-13T00:00:00",
          "2022-09-14T00:00:00",
          "2022-09-15T00:00:00",
          "2022-09-16T00:00:00",
          "2022-09-19T00:00:00",
          "2022-09-20T00:00:00",
          "2022-09-21T00:00:00",
          "2022-09-22T00:00:00",
          "2022-09-23T00:00:00",
          "2022-09-26T00:00:00",
          "2022-09-27T00:00:00",
          "2022-09-28T00:00:00",
          "2022-09-29T00:00:00",
          "2022-09-30T00:00:00",
          "2022-10-03T00:00:00",
          "2022-10-04T00:00:00",
          "2022-10-05T00:00:00",
          "2022-10-06T00:00:00",
          "2022-10-07T00:00:00",
          "2022-10-10T00:00:00",
          "2022-10-11T00:00:00",
          "2022-10-12T00:00:00",
          "2022-10-13T00:00:00",
          "2022-10-14T00:00:00",
          "2022-10-17T00:00:00",
          "2022-10-18T00:00:00",
          "2022-10-19T00:00:00",
          "2022-10-20T00:00:00",
          "2022-10-21T00:00:00",
          "2022-10-24T00:00:00",
          "2022-10-25T00:00:00",
          "2022-10-26T00:00:00",
          "2022-10-27T00:00:00",
          "2022-10-28T00:00:00",
          "2022-10-31T00:00:00",
          "2022-11-01T00:00:00",
          "2022-11-02T00:00:00",
          "2022-11-03T00:00:00",
          "2022-11-04T00:00:00",
          "2022-11-07T00:00:00",
          "2022-11-08T00:00:00",
          "2022-11-09T00:00:00",
          "2022-11-10T00:00:00",
          "2022-11-11T00:00:00",
          "2022-11-14T00:00:00",
          "2022-11-15T00:00:00",
          "2022-11-16T00:00:00",
          "2022-11-17T00:00:00",
          "2022-11-18T00:00:00",
          "2022-11-21T00:00:00",
          "2022-11-22T00:00:00",
          "2022-11-23T00:00:00",
          "2022-11-25T00:00:00",
          "2022-11-28T00:00:00",
          "2022-11-29T00:00:00",
          "2022-11-30T00:00:00",
          "2022-12-01T00:00:00",
          "2022-12-02T00:00:00"
         ],
         "y": [
          122.940002,
          122.25,
          123.75,
          124.379997,
          121.779999,
          123.239998,
          122.410004,
          121.779999,
          127.879997,
          127.809998,
          128.699997,
          126.660004,
          128.229996,
          131.880005,
          130.960007,
          131.970001,
          136.690002,
          134.869995,
          133.720001,
          132.690002,
          129.410004,
          131.009995,
          126.599998,
          130.919998,
          132.050003,
          128.979996,
          128.800003,
          130.889999,
          128.910004,
          127.139999,
          127.830002,
          132.029999,
          136.869995,
          139.070007,
          142.919998,
          143.160004,
          142.059998,
          137.089996,
          131.960007,
          134.139999,
          134.990005,
          133.940002,
          137.389999,
          136.759995,
          136.910004,
          136.009995,
          135.389999,
          135.130005,
          135.369995,
          133.190002,
          130.839996,
          129.710007,
          129.869995,
          126,
          125.860001,
          125.349998,
          120.989998,
          121.260002,
          127.790001,
          125.120003,
          122.059998,
          120.129997,
          121.419998,
          116.360001,
          121.089996,
          119.980003,
          121.959999,
          121.029999,
          123.989998,
          125.57,
          124.760002,
          120.529999,
          119.989998,
          123.389999,
          122.540001,
          120.089996,
          120.589996,
          121.209999,
          121.389999,
          119.900002,
          122.150002,
          123,
          125.900002,
          126.209999,
          127.900002,
          130.360001,
          133,
          131.240005,
          134.429993,
          132.029999,
          134.5,
          134.160004,
          134.839996,
          133.110001,
          133.5,
          131.940002,
          134.320007,
          134.720001,
          134.389999,
          133.580002,
          133.479996,
          131.460007,
          132.539993,
          127.849998,
          128.100006,
          129.740005,
          130.210007,
          126.849998,
          125.910004,
          122.769997,
          124.970001,
          127.449997,
          126.269997,
          124.849998,
          124.690002,
          127.309998,
          125.43,
          127.099998,
          126.900002,
          126.849998,
          125.279999,
          124.610001,
          124.279999,
          125.059998,
          123.540001,
          125.889999,
          125.900002,
          126.739998,
          127.129997,
          126.110001,
          127.349998,
          130.479996,
          129.639999,
          130.149994,
          131.789993,
          130.460007,
          132.300003,
          133.979996,
          133.699997,
          133.410004,
          133.110001,
          134.779999,
          136.330002,
          136.960007,
          137.270004,
          139.960007,
          142.020004,
          144.570007,
          143.240005,
          145.110001,
          144.5,
          145.639999,
          149.149994,
          148.479996,
          146.389999,
          142.449997,
          146.149994,
          145.399994,
          146.800003,
          148.559998,
          148.990005,
          146.770004,
          144.979996,
          145.639999,
          145.860001,
          145.520004,
          147.360001,
          146.949997,
          147.059998,
          146.139999,
          146.089996,
          145.600006,
          145.860001,
          148.889999,
          149.100006,
          151.119995,
          150.190002,
          146.360001,
          146.699997,
          148.190002,
          149.710007,
          149.619995,
          148.360001,
          147.539993,
          148.600006,
          153.119995,
          151.830002,
          152.509995,
          153.649994,
          154.300003,
          156.690002,
          155.110001,
          154.070007,
          148.970001,
          149.550003,
          148.119995,
          149.029999,
          148.789993,
          146.059998,
          142.940002,
          143.429993,
          145.850006,
          146.830002,
          146.919998,
          145.369995,
          141.910004,
          142.830002,
          141.5,
          142.649994,
          139.139999,
          141.110001,
          142,
          143.289993,
          142.899994,
          142.809998,
          141.509995,
          140.910004,
          143.759995,
          144.839996,
          146.550003,
          148.759995,
          149.259995,
          149.479996,
          148.690002,
          148.639999,
          149.320007,
          148.850006,
          152.570007,
          149.800003,
          148.960007,
          150.020004,
          151.490005,
          150.960007,
          151.279999,
          150.440002,
          150.809998,
          147.919998,
          147.869995,
          149.990005,
          150,
          151,
          153.490005,
          157.869995,
          160.550003,
          161.020004,
          161.410004,
          161.940002,
          156.809998,
          160.240005,
          165.300003,
          164.770004,
          163.759995,
          161.839996,
          165.320007,
          171.179993,
          175.080002,
          174.559998,
          179.449997,
          175.740005,
          174.330002,
          179.300003,
          172.259995,
          171.139999,
          169.75,
          172.990005,
          175.639999,
          176.279999,
          180.330002,
          179.289993,
          179.380005,
          178.199997,
          177.570007,
          182.009995,
          179.699997,
          174.919998,
          172,
          172.169998,
          172.190002,
          175.080002,
          175.529999,
          172.190002,
          173.070007,
          169.800003,
          166.229996,
          164.509995,
          162.410004,
          161.619995,
          159.779999,
          159.690002,
          159.220001,
          170.330002,
          174.779999,
          174.610001,
          175.839996,
          172.899994,
          172.389999,
          171.660004,
          174.830002,
          176.279999,
          172.119995,
          168.639999,
          168.880005,
          172.789993,
          172.550003,
          168.880005,
          167.300003,
          164.320007,
          160.070007,
          162.740005,
          164.850006,
          165.119995,
          163.199997,
          166.559998,
          166.229996,
          163.169998,
          159.300003,
          157.440002,
          162.949997,
          158.520004,
          154.729996,
          150.619995,
          155.089996,
          159.589996,
          160.619995,
          163.979996,
          165.380005,
          168.820007,
          170.210007,
          174.070007,
          174.720001,
          175.600006,
          178.960007,
          177.770004,
          174.610001,
          174.309998,
          178.440002,
          175.059998,
          171.830002,
          172.139999,
          170.089996,
          165.75,
          167.660004,
          170.399994,
          165.289993,
          165.070007,
          167.399994,
          167.229996,
          166.419998,
          161.789993,
          162.880005,
          156.800003,
          156.570007,
          163.639999,
          157.649994,
          157.960007,
          159.479996,
          166.020004,
          156.770004,
          157.279999,
          152.059998,
          154.509995,
          146.5,
          142.559998,
          147.110001,
          145.539993,
          149.240005,
          140.820007,
          137.350006,
          137.589996,
          143.110001,
          140.360001,
          140.520004,
          143.779999,
          149.639999,
          148.839996,
          148.710007,
          151.210007,
          145.380005,
          146.139999,
          148.710007,
          147.960007,
          142.639999,
          137.130005,
          131.880005,
          132.759995,
          135.429993,
          130.059998,
          131.559998,
          135.869995,
          135.350006,
          138.270004,
          141.660004,
          141.660004,
          137.440002,
          139.229996,
          136.720001,
          138.929993,
          141.559998,
          142.919998,
          146.350006,
          147.039993,
          144.869995,
          145.860001,
          145.490005,
          148.470001,
          150.169998,
          147.070007,
          151,
          153.039993,
          155.350006,
          154.089996,
          152.949997,
          151.600006,
          156.789993,
          157.350006,
          162.509995,
          161.509995,
          160.009995,
          166.130005,
          165.809998,
          165.350006,
          164.869995,
          164.919998,
          169.240005,
          168.490005,
          172.100006,
          173.190002,
          173.029999,
          174.550003,
          174.149994,
          171.520004,
          167.570007,
          167.229996,
          167.529999,
          170.029999,
          163.619995,
          161.380005,
          158.910004,
          157.220001,
          157.960007,
          155.809998,
          154.529999,
          155.960007,
          154.460007,
          157.369995,
          163.429993,
          153.839996,
          155.309998,
          152.369995,
          150.699997,
          154.479996,
          156.899994,
          153.720001,
          152.740005,
          150.429993,
          150.770004,
          151.759995,
          149.839996,
          142.479996,
          138.199997,
          142.449997,
          146.100006,
          146.399994,
          145.429993,
          140.089996,
          140.419998,
          138.979996,
          138.339996,
          142.990005,
          138.380005,
          142.410004,
          143.75,
          143.860001,
          143.389999,
          147.270004,
          149.449997,
          152.339996,
          149.350006,
          144.800003,
          155.740005,
          153.339996,
          150.649994,
          145.029999,
          138.880005,
          138.380005,
          138.919998,
          139.5,
          134.869995,
          146.869995,
          149.699997,
          148.279999,
          150.039993,
          148.789993,
          150.720001,
          151.289993,
          148.009995,
          150.179993,
          151.070007,
          148.110001,
          144.220001,
          141.169998,
          148.029999,
          148.309998,
          147.809998
         ]
        }
       ],
       "layout": {
        "template": {
         "data": {
          "bar": [
           {
            "error_x": {
             "color": "#2a3f5f"
            },
            "error_y": {
             "color": "#2a3f5f"
            },
            "marker": {
             "line": {
              "color": "#E5ECF6",
              "width": 0.5
             },
             "pattern": {
              "fillmode": "overlay",
              "size": 10,
              "solidity": 0.2
             }
            },
            "type": "bar"
           }
          ],
          "barpolar": [
           {
            "marker": {
             "line": {
              "color": "#E5ECF6",
              "width": 0.5
             },
             "pattern": {
              "fillmode": "overlay",
              "size": 10,
              "solidity": 0.2
             }
            },
            "type": "barpolar"
           }
          ],
          "carpet": [
           {
            "aaxis": {
             "endlinecolor": "#2a3f5f",
             "gridcolor": "white",
             "linecolor": "white",
             "minorgridcolor": "white",
             "startlinecolor": "#2a3f5f"
            },
            "baxis": {
             "endlinecolor": "#2a3f5f",
             "gridcolor": "white",
             "linecolor": "white",
             "minorgridcolor": "white",
             "startlinecolor": "#2a3f5f"
            },
            "type": "carpet"
           }
          ],
          "choropleth": [
           {
            "colorbar": {
             "outlinewidth": 0,
             "ticks": ""
            },
            "type": "choropleth"
           }
          ],
          "contour": [
           {
            "colorbar": {
             "outlinewidth": 0,
             "ticks": ""
            },
            "colorscale": [
             [
              0,
              "#0d0887"
             ],
             [
              0.1111111111111111,
              "#46039f"
             ],
             [
              0.2222222222222222,
              "#7201a8"
             ],
             [
              0.3333333333333333,
              "#9c179e"
             ],
             [
              0.4444444444444444,
              "#bd3786"
             ],
             [
              0.5555555555555556,
              "#d8576b"
             ],
             [
              0.6666666666666666,
              "#ed7953"
             ],
             [
              0.7777777777777778,
              "#fb9f3a"
             ],
             [
              0.8888888888888888,
              "#fdca26"
             ],
             [
              1,
              "#f0f921"
             ]
            ],
            "type": "contour"
           }
          ],
          "contourcarpet": [
           {
            "colorbar": {
             "outlinewidth": 0,
             "ticks": ""
            },
            "type": "contourcarpet"
           }
          ],
          "heatmap": [
           {
            "colorbar": {
             "outlinewidth": 0,
             "ticks": ""
            },
            "colorscale": [
             [
              0,
              "#0d0887"
             ],
             [
              0.1111111111111111,
              "#46039f"
             ],
             [
              0.2222222222222222,
              "#7201a8"
             ],
             [
              0.3333333333333333,
              "#9c179e"
             ],
             [
              0.4444444444444444,
              "#bd3786"
             ],
             [
              0.5555555555555556,
              "#d8576b"
             ],
             [
              0.6666666666666666,
              "#ed7953"
             ],
             [
              0.7777777777777778,
              "#fb9f3a"
             ],
             [
              0.8888888888888888,
              "#fdca26"
             ],
             [
              1,
              "#f0f921"
             ]
            ],
            "type": "heatmap"
           }
          ],
          "heatmapgl": [
           {
            "colorbar": {
             "outlinewidth": 0,
             "ticks": ""
            },
            "colorscale": [
             [
              0,
              "#0d0887"
             ],
             [
              0.1111111111111111,
              "#46039f"
             ],
             [
              0.2222222222222222,
              "#7201a8"
             ],
             [
              0.3333333333333333,
              "#9c179e"
             ],
             [
              0.4444444444444444,
              "#bd3786"
             ],
             [
              0.5555555555555556,
              "#d8576b"
             ],
             [
              0.6666666666666666,
              "#ed7953"
             ],
             [
              0.7777777777777778,
              "#fb9f3a"
             ],
             [
              0.8888888888888888,
              "#fdca26"
             ],
             [
              1,
              "#f0f921"
             ]
            ],
            "type": "heatmapgl"
           }
          ],
          "histogram": [
           {
            "marker": {
             "pattern": {
              "fillmode": "overlay",
              "size": 10,
              "solidity": 0.2
             }
            },
            "type": "histogram"
           }
          ],
          "histogram2d": [
           {
            "colorbar": {
             "outlinewidth": 0,
             "ticks": ""
            },
            "colorscale": [
             [
              0,
              "#0d0887"
             ],
             [
              0.1111111111111111,
              "#46039f"
             ],
             [
              0.2222222222222222,
              "#7201a8"
             ],
             [
              0.3333333333333333,
              "#9c179e"
             ],
             [
              0.4444444444444444,
              "#bd3786"
             ],
             [
              0.5555555555555556,
              "#d8576b"
             ],
             [
              0.6666666666666666,
              "#ed7953"
             ],
             [
              0.7777777777777778,
              "#fb9f3a"
             ],
             [
              0.8888888888888888,
              "#fdca26"
             ],
             [
              1,
              "#f0f921"
             ]
            ],
            "type": "histogram2d"
           }
          ],
          "histogram2dcontour": [
           {
            "colorbar": {
             "outlinewidth": 0,
             "ticks": ""
            },
            "colorscale": [
             [
              0,
              "#0d0887"
             ],
             [
              0.1111111111111111,
              "#46039f"
             ],
             [
              0.2222222222222222,
              "#7201a8"
             ],
             [
              0.3333333333333333,
              "#9c179e"
             ],
             [
              0.4444444444444444,
              "#bd3786"
             ],
             [
              0.5555555555555556,
              "#d8576b"
             ],
             [
              0.6666666666666666,
              "#ed7953"
             ],
             [
              0.7777777777777778,
              "#fb9f3a"
             ],
             [
              0.8888888888888888,
              "#fdca26"
             ],
             [
              1,
              "#f0f921"
             ]
            ],
            "type": "histogram2dcontour"
           }
          ],
          "mesh3d": [
           {
            "colorbar": {
             "outlinewidth": 0,
             "ticks": ""
            },
            "type": "mesh3d"
           }
          ],
          "parcoords": [
           {
            "line": {
             "colorbar": {
              "outlinewidth": 0,
              "ticks": ""
             }
            },
            "type": "parcoords"
           }
          ],
          "pie": [
           {
            "automargin": true,
            "type": "pie"
           }
          ],
          "scatter": [
           {
            "fillpattern": {
             "fillmode": "overlay",
             "size": 10,
             "solidity": 0.2
            },
            "type": "scatter"
           }
          ],
          "scatter3d": [
           {
            "line": {
             "colorbar": {
              "outlinewidth": 0,
              "ticks": ""
             }
            },
            "marker": {
             "colorbar": {
              "outlinewidth": 0,
              "ticks": ""
             }
            },
            "type": "scatter3d"
           }
          ],
          "scattercarpet": [
           {
            "marker": {
             "colorbar": {
              "outlinewidth": 0,
              "ticks": ""
             }
            },
            "type": "scattercarpet"
           }
          ],
          "scattergeo": [
           {
            "marker": {
             "colorbar": {
              "outlinewidth": 0,
              "ticks": ""
             }
            },
            "type": "scattergeo"
           }
          ],
          "scattergl": [
           {
            "marker": {
             "colorbar": {
              "outlinewidth": 0,
              "ticks": ""
             }
            },
            "type": "scattergl"
           }
          ],
          "scattermapbox": [
           {
            "marker": {
             "colorbar": {
              "outlinewidth": 0,
              "ticks": ""
             }
            },
            "type": "scattermapbox"
           }
          ],
          "scatterpolar": [
           {
            "marker": {
             "colorbar": {
              "outlinewidth": 0,
              "ticks": ""
             }
            },
            "type": "scatterpolar"
           }
          ],
          "scatterpolargl": [
           {
            "marker": {
             "colorbar": {
              "outlinewidth": 0,
              "ticks": ""
             }
            },
            "type": "scatterpolargl"
           }
          ],
          "scatterternary": [
           {
            "marker": {
             "colorbar": {
              "outlinewidth": 0,
              "ticks": ""
             }
            },
            "type": "scatterternary"
           }
          ],
          "surface": [
           {
            "colorbar": {
             "outlinewidth": 0,
             "ticks": ""
            },
            "colorscale": [
             [
              0,
              "#0d0887"
             ],
             [
              0.1111111111111111,
              "#46039f"
             ],
             [
              0.2222222222222222,
              "#7201a8"
             ],
             [
              0.3333333333333333,
              "#9c179e"
             ],
             [
              0.4444444444444444,
              "#bd3786"
             ],
             [
              0.5555555555555556,
              "#d8576b"
             ],
             [
              0.6666666666666666,
              "#ed7953"
             ],
             [
              0.7777777777777778,
              "#fb9f3a"
             ],
             [
              0.8888888888888888,
              "#fdca26"
             ],
             [
              1,
              "#f0f921"
             ]
            ],
            "type": "surface"
           }
          ],
          "table": [
           {
            "cells": {
             "fill": {
              "color": "#EBF0F8"
             },
             "line": {
              "color": "white"
             }
            },
            "header": {
             "fill": {
              "color": "#C8D4E3"
             },
             "line": {
              "color": "white"
             }
            },
            "type": "table"
           }
          ]
         },
         "layout": {
          "annotationdefaults": {
           "arrowcolor": "#2a3f5f",
           "arrowhead": 0,
           "arrowwidth": 1
          },
          "autotypenumbers": "strict",
          "coloraxis": {
           "colorbar": {
            "outlinewidth": 0,
            "ticks": ""
           }
          },
          "colorscale": {
           "diverging": [
            [
             0,
             "#8e0152"
            ],
            [
             0.1,
             "#c51b7d"
            ],
            [
             0.2,
             "#de77ae"
            ],
            [
             0.3,
             "#f1b6da"
            ],
            [
             0.4,
             "#fde0ef"
            ],
            [
             0.5,
             "#f7f7f7"
            ],
            [
             0.6,
             "#e6f5d0"
            ],
            [
             0.7,
             "#b8e186"
            ],
            [
             0.8,
             "#7fbc41"
            ],
            [
             0.9,
             "#4d9221"
            ],
            [
             1,
             "#276419"
            ]
           ],
           "sequential": [
            [
             0,
             "#0d0887"
            ],
            [
             0.1111111111111111,
             "#46039f"
            ],
            [
             0.2222222222222222,
             "#7201a8"
            ],
            [
             0.3333333333333333,
             "#9c179e"
            ],
            [
             0.4444444444444444,
             "#bd3786"
            ],
            [
             0.5555555555555556,
             "#d8576b"
            ],
            [
             0.6666666666666666,
             "#ed7953"
            ],
            [
             0.7777777777777778,
             "#fb9f3a"
            ],
            [
             0.8888888888888888,
             "#fdca26"
            ],
            [
             1,
             "#f0f921"
            ]
           ],
           "sequentialminus": [
            [
             0,
             "#0d0887"
            ],
            [
             0.1111111111111111,
             "#46039f"
            ],
            [
             0.2222222222222222,
             "#7201a8"
            ],
            [
             0.3333333333333333,
             "#9c179e"
            ],
            [
             0.4444444444444444,
             "#bd3786"
            ],
            [
             0.5555555555555556,
             "#d8576b"
            ],
            [
             0.6666666666666666,
             "#ed7953"
            ],
            [
             0.7777777777777778,
             "#fb9f3a"
            ],
            [
             0.8888888888888888,
             "#fdca26"
            ],
            [
             1,
             "#f0f921"
            ]
           ]
          },
          "colorway": [
           "#636efa",
           "#EF553B",
           "#00cc96",
           "#ab63fa",
           "#FFA15A",
           "#19d3f3",
           "#FF6692",
           "#B6E880",
           "#FF97FF",
           "#FECB52"
          ],
          "font": {
           "color": "#2a3f5f"
          },
          "geo": {
           "bgcolor": "white",
           "lakecolor": "white",
           "landcolor": "#E5ECF6",
           "showlakes": true,
           "showland": true,
           "subunitcolor": "white"
          },
          "hoverlabel": {
           "align": "left"
          },
          "hovermode": "closest",
          "mapbox": {
           "style": "light"
          },
          "paper_bgcolor": "white",
          "plot_bgcolor": "#E5ECF6",
          "polar": {
           "angularaxis": {
            "gridcolor": "white",
            "linecolor": "white",
            "ticks": ""
           },
           "bgcolor": "#E5ECF6",
           "radialaxis": {
            "gridcolor": "white",
            "linecolor": "white",
            "ticks": ""
           }
          },
          "scene": {
           "xaxis": {
            "backgroundcolor": "#E5ECF6",
            "gridcolor": "white",
            "gridwidth": 2,
            "linecolor": "white",
            "showbackground": true,
            "ticks": "",
            "zerolinecolor": "white"
           },
           "yaxis": {
            "backgroundcolor": "#E5ECF6",
            "gridcolor": "white",
            "gridwidth": 2,
            "linecolor": "white",
            "showbackground": true,
            "ticks": "",
            "zerolinecolor": "white"
           },
           "zaxis": {
            "backgroundcolor": "#E5ECF6",
            "gridcolor": "white",
            "gridwidth": 2,
            "linecolor": "white",
            "showbackground": true,
            "ticks": "",
            "zerolinecolor": "white"
           }
          },
          "shapedefaults": {
           "line": {
            "color": "#2a3f5f"
           }
          },
          "ternary": {
           "aaxis": {
            "gridcolor": "white",
            "linecolor": "white",
            "ticks": ""
           },
           "baxis": {
            "gridcolor": "white",
            "linecolor": "white",
            "ticks": ""
           },
           "bgcolor": "#E5ECF6",
           "caxis": {
            "gridcolor": "white",
            "linecolor": "white",
            "ticks": ""
           }
          },
          "title": {
           "x": 0.05
          },
          "xaxis": {
           "automargin": true,
           "gridcolor": "white",
           "linecolor": "white",
           "ticks": "",
           "title": {
            "standoff": 15
           },
           "zerolinecolor": "white",
           "zerolinewidth": 2
          },
          "yaxis": {
           "automargin": true,
           "gridcolor": "white",
           "linecolor": "white",
           "ticks": "",
           "title": {
            "standoff": 15
           },
           "zerolinecolor": "white",
           "zerolinewidth": 2
          }
         }
        },
        "title": {
         "text": "Stock Prices of APPLE"
        },
        "xaxis": {
         "title": {
          "font": {
           "color": "#7f7f7f",
           "family": "Courier New, monospace",
           "size": 18
          },
          "text": "Date"
         }
        },
        "yaxis": {
         "title": {
          "font": {
           "color": "#7f7f7f",
           "family": "Courier New, monospace",
           "size": 18
          },
          "text": "Price"
         }
        }
       }
      },
      "text/html": [
       "<div>                            <div id=\"1d49e7b6-ac16-4ac6-b4ce-8de0296dec87\" class=\"plotly-graph-div\" style=\"height:525px; width:100%;\"></div>            <script type=\"text/javascript\">                require([\"plotly\"], function(Plotly) {                    window.PLOTLYENV=window.PLOTLYENV || {};                                    if (document.getElementById(\"1d49e7b6-ac16-4ac6-b4ce-8de0296dec87\")) {                    Plotly.newPlot(                        \"1d49e7b6-ac16-4ac6-b4ce-8de0296dec87\",                        [{\"x\":[\"2020-12-03T00:00:00\",\"2020-12-04T00:00:00\",\"2020-12-07T00:00:00\",\"2020-12-08T00:00:00\",\"2020-12-09T00:00:00\",\"2020-12-10T00:00:00\",\"2020-12-11T00:00:00\",\"2020-12-14T00:00:00\",\"2020-12-15T00:00:00\",\"2020-12-16T00:00:00\",\"2020-12-17T00:00:00\",\"2020-12-18T00:00:00\",\"2020-12-21T00:00:00\",\"2020-12-22T00:00:00\",\"2020-12-23T00:00:00\",\"2020-12-24T00:00:00\",\"2020-12-28T00:00:00\",\"2020-12-29T00:00:00\",\"2020-12-30T00:00:00\",\"2020-12-31T00:00:00\",\"2021-01-04T00:00:00\",\"2021-01-05T00:00:00\",\"2021-01-06T00:00:00\",\"2021-01-07T00:00:00\",\"2021-01-08T00:00:00\",\"2021-01-11T00:00:00\",\"2021-01-12T00:00:00\",\"2021-01-13T00:00:00\",\"2021-01-14T00:00:00\",\"2021-01-15T00:00:00\",\"2021-01-19T00:00:00\",\"2021-01-20T00:00:00\",\"2021-01-21T00:00:00\",\"2021-01-22T00:00:00\",\"2021-01-25T00:00:00\",\"2021-01-26T00:00:00\",\"2021-01-27T00:00:00\",\"2021-01-28T00:00:00\",\"2021-01-29T00:00:00\",\"2021-02-01T00:00:00\",\"2021-02-02T00:00:00\",\"2021-02-03T00:00:00\",\"2021-02-04T00:00:00\",\"2021-02-05T00:00:00\",\"2021-02-08T00:00:00\",\"2021-02-09T00:00:00\",\"2021-02-10T00:00:00\",\"2021-02-11T00:00:00\",\"2021-02-12T00:00:00\",\"2021-02-16T00:00:00\",\"2021-02-17T00:00:00\",\"2021-02-18T00:00:00\",\"2021-02-19T00:00:00\",\"2021-02-22T00:00:00\",\"2021-02-23T00:00:00\",\"2021-02-24T00:00:00\",\"2021-02-25T00:00:00\",\"2021-02-26T00:00:00\",\"2021-03-01T00:00:00\",\"2021-03-02T00:00:00\",\"2021-03-03T00:00:00\",\"2021-03-04T00:00:00\",\"2021-03-05T00:00:00\",\"2021-03-08T00:00:00\",\"2021-03-09T00:00:00\",\"2021-03-10T00:00:00\",\"2021-03-11T00:00:00\",\"2021-03-12T00:00:00\",\"2021-03-15T00:00:00\",\"2021-03-16T00:00:00\",\"2021-03-17T00:00:00\",\"2021-03-18T00:00:00\",\"2021-03-19T00:00:00\",\"2021-03-22T00:00:00\",\"2021-03-23T00:00:00\",\"2021-03-24T00:00:00\",\"2021-03-25T00:00:00\",\"2021-03-26T00:00:00\",\"2021-03-29T00:00:00\",\"2021-03-30T00:00:00\",\"2021-03-31T00:00:00\",\"2021-04-01T00:00:00\",\"2021-04-05T00:00:00\",\"2021-04-06T00:00:00\",\"2021-04-07T00:00:00\",\"2021-04-08T00:00:00\",\"2021-04-09T00:00:00\",\"2021-04-12T00:00:00\",\"2021-04-13T00:00:00\",\"2021-04-14T00:00:00\",\"2021-04-15T00:00:00\",\"2021-04-16T00:00:00\",\"2021-04-19T00:00:00\",\"2021-04-20T00:00:00\",\"2021-04-21T00:00:00\",\"2021-04-22T00:00:00\",\"2021-04-23T00:00:00\",\"2021-04-26T00:00:00\",\"2021-04-27T00:00:00\",\"2021-04-28T00:00:00\",\"2021-04-29T00:00:00\",\"2021-04-30T00:00:00\",\"2021-05-03T00:00:00\",\"2021-05-04T00:00:00\",\"2021-05-05T00:00:00\",\"2021-05-06T00:00:00\",\"2021-05-07T00:00:00\",\"2021-05-10T00:00:00\",\"2021-05-11T00:00:00\",\"2021-05-12T00:00:00\",\"2021-05-13T00:00:00\",\"2021-05-14T00:00:00\",\"2021-05-17T00:00:00\",\"2021-05-18T00:00:00\",\"2021-05-19T00:00:00\",\"2021-05-20T00:00:00\",\"2021-05-21T00:00:00\",\"2021-05-24T00:00:00\",\"2021-05-25T00:00:00\",\"2021-05-26T00:00:00\",\"2021-05-27T00:00:00\",\"2021-05-28T00:00:00\",\"2021-06-01T00:00:00\",\"2021-06-02T00:00:00\",\"2021-06-03T00:00:00\",\"2021-06-04T00:00:00\",\"2021-06-07T00:00:00\",\"2021-06-08T00:00:00\",\"2021-06-09T00:00:00\",\"2021-06-10T00:00:00\",\"2021-06-11T00:00:00\",\"2021-06-14T00:00:00\",\"2021-06-15T00:00:00\",\"2021-06-16T00:00:00\",\"2021-06-17T00:00:00\",\"2021-06-18T00:00:00\",\"2021-06-21T00:00:00\",\"2021-06-22T00:00:00\",\"2021-06-23T00:00:00\",\"2021-06-24T00:00:00\",\"2021-06-25T00:00:00\",\"2021-06-28T00:00:00\",\"2021-06-29T00:00:00\",\"2021-06-30T00:00:00\",\"2021-07-01T00:00:00\",\"2021-07-02T00:00:00\",\"2021-07-06T00:00:00\",\"2021-07-07T00:00:00\",\"2021-07-08T00:00:00\",\"2021-07-09T00:00:00\",\"2021-07-12T00:00:00\",\"2021-07-13T00:00:00\",\"2021-07-14T00:00:00\",\"2021-07-15T00:00:00\",\"2021-07-16T00:00:00\",\"2021-07-19T00:00:00\",\"2021-07-20T00:00:00\",\"2021-07-21T00:00:00\",\"2021-07-22T00:00:00\",\"2021-07-23T00:00:00\",\"2021-07-26T00:00:00\",\"2021-07-27T00:00:00\",\"2021-07-28T00:00:00\",\"2021-07-29T00:00:00\",\"2021-07-30T00:00:00\",\"2021-08-02T00:00:00\",\"2021-08-03T00:00:00\",\"2021-08-04T00:00:00\",\"2021-08-05T00:00:00\",\"2021-08-06T00:00:00\",\"2021-08-09T00:00:00\",\"2021-08-10T00:00:00\",\"2021-08-11T00:00:00\",\"2021-08-12T00:00:00\",\"2021-08-13T00:00:00\",\"2021-08-16T00:00:00\",\"2021-08-17T00:00:00\",\"2021-08-18T00:00:00\",\"2021-08-19T00:00:00\",\"2021-08-20T00:00:00\",\"2021-08-23T00:00:00\",\"2021-08-24T00:00:00\",\"2021-08-25T00:00:00\",\"2021-08-26T00:00:00\",\"2021-08-27T00:00:00\",\"2021-08-30T00:00:00\",\"2021-08-31T00:00:00\",\"2021-09-01T00:00:00\",\"2021-09-02T00:00:00\",\"2021-09-03T00:00:00\",\"2021-09-07T00:00:00\",\"2021-09-08T00:00:00\",\"2021-09-09T00:00:00\",\"2021-09-10T00:00:00\",\"2021-09-13T00:00:00\",\"2021-09-14T00:00:00\",\"2021-09-15T00:00:00\",\"2021-09-16T00:00:00\",\"2021-09-17T00:00:00\",\"2021-09-20T00:00:00\",\"2021-09-21T00:00:00\",\"2021-09-22T00:00:00\",\"2021-09-23T00:00:00\",\"2021-09-24T00:00:00\",\"2021-09-27T00:00:00\",\"2021-09-28T00:00:00\",\"2021-09-29T00:00:00\",\"2021-09-30T00:00:00\",\"2021-10-01T00:00:00\",\"2021-10-04T00:00:00\",\"2021-10-05T00:00:00\",\"2021-10-06T00:00:00\",\"2021-10-07T00:00:00\",\"2021-10-08T00:00:00\",\"2021-10-11T00:00:00\",\"2021-10-12T00:00:00\",\"2021-10-13T00:00:00\",\"2021-10-14T00:00:00\",\"2021-10-15T00:00:00\",\"2021-10-18T00:00:00\",\"2021-10-19T00:00:00\",\"2021-10-20T00:00:00\",\"2021-10-21T00:00:00\",\"2021-10-22T00:00:00\",\"2021-10-25T00:00:00\",\"2021-10-26T00:00:00\",\"2021-10-27T00:00:00\",\"2021-10-28T00:00:00\",\"2021-10-29T00:00:00\",\"2021-11-01T00:00:00\",\"2021-11-02T00:00:00\",\"2021-11-03T00:00:00\",\"2021-11-04T00:00:00\",\"2021-11-05T00:00:00\",\"2021-11-08T00:00:00\",\"2021-11-09T00:00:00\",\"2021-11-10T00:00:00\",\"2021-11-11T00:00:00\",\"2021-11-12T00:00:00\",\"2021-11-15T00:00:00\",\"2021-11-16T00:00:00\",\"2021-11-17T00:00:00\",\"2021-11-18T00:00:00\",\"2021-11-19T00:00:00\",\"2021-11-22T00:00:00\",\"2021-11-23T00:00:00\",\"2021-11-24T00:00:00\",\"2021-11-26T00:00:00\",\"2021-11-29T00:00:00\",\"2021-11-30T00:00:00\",\"2021-12-01T00:00:00\",\"2021-12-02T00:00:00\",\"2021-12-03T00:00:00\",\"2021-12-06T00:00:00\",\"2021-12-07T00:00:00\",\"2021-12-08T00:00:00\",\"2021-12-09T00:00:00\",\"2021-12-10T00:00:00\",\"2021-12-13T00:00:00\",\"2021-12-14T00:00:00\",\"2021-12-15T00:00:00\",\"2021-12-16T00:00:00\",\"2021-12-17T00:00:00\",\"2021-12-20T00:00:00\",\"2021-12-21T00:00:00\",\"2021-12-22T00:00:00\",\"2021-12-23T00:00:00\",\"2021-12-27T00:00:00\",\"2021-12-28T00:00:00\",\"2021-12-29T00:00:00\",\"2021-12-30T00:00:00\",\"2021-12-31T00:00:00\",\"2022-01-03T00:00:00\",\"2022-01-04T00:00:00\",\"2022-01-05T00:00:00\",\"2022-01-06T00:00:00\",\"2022-01-07T00:00:00\",\"2022-01-10T00:00:00\",\"2022-01-11T00:00:00\",\"2022-01-12T00:00:00\",\"2022-01-13T00:00:00\",\"2022-01-14T00:00:00\",\"2022-01-18T00:00:00\",\"2022-01-19T00:00:00\",\"2022-01-20T00:00:00\",\"2022-01-21T00:00:00\",\"2022-01-24T00:00:00\",\"2022-01-25T00:00:00\",\"2022-01-26T00:00:00\",\"2022-01-27T00:00:00\",\"2022-01-28T00:00:00\",\"2022-01-31T00:00:00\",\"2022-02-01T00:00:00\",\"2022-02-02T00:00:00\",\"2022-02-03T00:00:00\",\"2022-02-04T00:00:00\",\"2022-02-07T00:00:00\",\"2022-02-08T00:00:00\",\"2022-02-09T00:00:00\",\"2022-02-10T00:00:00\",\"2022-02-11T00:00:00\",\"2022-02-14T00:00:00\",\"2022-02-15T00:00:00\",\"2022-02-16T00:00:00\",\"2022-02-17T00:00:00\",\"2022-02-18T00:00:00\",\"2022-02-22T00:00:00\",\"2022-02-23T00:00:00\",\"2022-02-24T00:00:00\",\"2022-02-25T00:00:00\",\"2022-02-28T00:00:00\",\"2022-03-01T00:00:00\",\"2022-03-02T00:00:00\",\"2022-03-03T00:00:00\",\"2022-03-04T00:00:00\",\"2022-03-07T00:00:00\",\"2022-03-08T00:00:00\",\"2022-03-09T00:00:00\",\"2022-03-10T00:00:00\",\"2022-03-11T00:00:00\",\"2022-03-14T00:00:00\",\"2022-03-15T00:00:00\",\"2022-03-16T00:00:00\",\"2022-03-17T00:00:00\",\"2022-03-18T00:00:00\",\"2022-03-21T00:00:00\",\"2022-03-22T00:00:00\",\"2022-03-23T00:00:00\",\"2022-03-24T00:00:00\",\"2022-03-25T00:00:00\",\"2022-03-28T00:00:00\",\"2022-03-29T00:00:00\",\"2022-03-30T00:00:00\",\"2022-03-31T00:00:00\",\"2022-04-01T00:00:00\",\"2022-04-04T00:00:00\",\"2022-04-05T00:00:00\",\"2022-04-06T00:00:00\",\"2022-04-07T00:00:00\",\"2022-04-08T00:00:00\",\"2022-04-11T00:00:00\",\"2022-04-12T00:00:00\",\"2022-04-13T00:00:00\",\"2022-04-14T00:00:00\",\"2022-04-18T00:00:00\",\"2022-04-19T00:00:00\",\"2022-04-20T00:00:00\",\"2022-04-21T00:00:00\",\"2022-04-22T00:00:00\",\"2022-04-25T00:00:00\",\"2022-04-26T00:00:00\",\"2022-04-27T00:00:00\",\"2022-04-28T00:00:00\",\"2022-04-29T00:00:00\",\"2022-05-02T00:00:00\",\"2022-05-03T00:00:00\",\"2022-05-04T00:00:00\",\"2022-05-05T00:00:00\",\"2022-05-06T00:00:00\",\"2022-05-09T00:00:00\",\"2022-05-10T00:00:00\",\"2022-05-11T00:00:00\",\"2022-05-12T00:00:00\",\"2022-05-13T00:00:00\",\"2022-05-16T00:00:00\",\"2022-05-17T00:00:00\",\"2022-05-18T00:00:00\",\"2022-05-19T00:00:00\",\"2022-05-20T00:00:00\",\"2022-05-23T00:00:00\",\"2022-05-24T00:00:00\",\"2022-05-25T00:00:00\",\"2022-05-26T00:00:00\",\"2022-05-27T00:00:00\",\"2022-05-31T00:00:00\",\"2022-06-01T00:00:00\",\"2022-06-02T00:00:00\",\"2022-06-03T00:00:00\",\"2022-06-06T00:00:00\",\"2022-06-07T00:00:00\",\"2022-06-08T00:00:00\",\"2022-06-09T00:00:00\",\"2022-06-10T00:00:00\",\"2022-06-13T00:00:00\",\"2022-06-14T00:00:00\",\"2022-06-15T00:00:00\",\"2022-06-16T00:00:00\",\"2022-06-17T00:00:00\",\"2022-06-21T00:00:00\",\"2022-06-22T00:00:00\",\"2022-06-23T00:00:00\",\"2022-06-24T00:00:00\",\"2022-06-27T00:00:00\",\"2022-06-28T00:00:00\",\"2022-06-29T00:00:00\",\"2022-06-30T00:00:00\",\"2022-07-01T00:00:00\",\"2022-07-05T00:00:00\",\"2022-07-06T00:00:00\",\"2022-07-07T00:00:00\",\"2022-07-08T00:00:00\",\"2022-07-11T00:00:00\",\"2022-07-12T00:00:00\",\"2022-07-13T00:00:00\",\"2022-07-14T00:00:00\",\"2022-07-15T00:00:00\",\"2022-07-18T00:00:00\",\"2022-07-19T00:00:00\",\"2022-07-20T00:00:00\",\"2022-07-21T00:00:00\",\"2022-07-22T00:00:00\",\"2022-07-25T00:00:00\",\"2022-07-26T00:00:00\",\"2022-07-27T00:00:00\",\"2022-07-28T00:00:00\",\"2022-07-29T00:00:00\",\"2022-08-01T00:00:00\",\"2022-08-02T00:00:00\",\"2022-08-03T00:00:00\",\"2022-08-04T00:00:00\",\"2022-08-05T00:00:00\",\"2022-08-08T00:00:00\",\"2022-08-09T00:00:00\",\"2022-08-10T00:00:00\",\"2022-08-11T00:00:00\",\"2022-08-12T00:00:00\",\"2022-08-15T00:00:00\",\"2022-08-16T00:00:00\",\"2022-08-17T00:00:00\",\"2022-08-18T00:00:00\",\"2022-08-19T00:00:00\",\"2022-08-22T00:00:00\",\"2022-08-23T00:00:00\",\"2022-08-24T00:00:00\",\"2022-08-25T00:00:00\",\"2022-08-26T00:00:00\",\"2022-08-29T00:00:00\",\"2022-08-30T00:00:00\",\"2022-08-31T00:00:00\",\"2022-09-01T00:00:00\",\"2022-09-02T00:00:00\",\"2022-09-06T00:00:00\",\"2022-09-07T00:00:00\",\"2022-09-08T00:00:00\",\"2022-09-09T00:00:00\",\"2022-09-12T00:00:00\",\"2022-09-13T00:00:00\",\"2022-09-14T00:00:00\",\"2022-09-15T00:00:00\",\"2022-09-16T00:00:00\",\"2022-09-19T00:00:00\",\"2022-09-20T00:00:00\",\"2022-09-21T00:00:00\",\"2022-09-22T00:00:00\",\"2022-09-23T00:00:00\",\"2022-09-26T00:00:00\",\"2022-09-27T00:00:00\",\"2022-09-28T00:00:00\",\"2022-09-29T00:00:00\",\"2022-09-30T00:00:00\",\"2022-10-03T00:00:00\",\"2022-10-04T00:00:00\",\"2022-10-05T00:00:00\",\"2022-10-06T00:00:00\",\"2022-10-07T00:00:00\",\"2022-10-10T00:00:00\",\"2022-10-11T00:00:00\",\"2022-10-12T00:00:00\",\"2022-10-13T00:00:00\",\"2022-10-14T00:00:00\",\"2022-10-17T00:00:00\",\"2022-10-18T00:00:00\",\"2022-10-19T00:00:00\",\"2022-10-20T00:00:00\",\"2022-10-21T00:00:00\",\"2022-10-24T00:00:00\",\"2022-10-25T00:00:00\",\"2022-10-26T00:00:00\",\"2022-10-27T00:00:00\",\"2022-10-28T00:00:00\",\"2022-10-31T00:00:00\",\"2022-11-01T00:00:00\",\"2022-11-02T00:00:00\",\"2022-11-03T00:00:00\",\"2022-11-04T00:00:00\",\"2022-11-07T00:00:00\",\"2022-11-08T00:00:00\",\"2022-11-09T00:00:00\",\"2022-11-10T00:00:00\",\"2022-11-11T00:00:00\",\"2022-11-14T00:00:00\",\"2022-11-15T00:00:00\",\"2022-11-16T00:00:00\",\"2022-11-17T00:00:00\",\"2022-11-18T00:00:00\",\"2022-11-21T00:00:00\",\"2022-11-22T00:00:00\",\"2022-11-23T00:00:00\",\"2022-11-25T00:00:00\",\"2022-11-28T00:00:00\",\"2022-11-29T00:00:00\",\"2022-11-30T00:00:00\",\"2022-12-01T00:00:00\",\"2022-12-02T00:00:00\"],\"y\":[122.940002,122.25,123.75,124.379997,121.779999,123.239998,122.410004,121.779999,127.879997,127.809998,128.699997,126.660004,128.229996,131.880005,130.960007,131.970001,136.690002,134.869995,133.720001,132.690002,129.410004,131.009995,126.599998,130.919998,132.050003,128.979996,128.800003,130.889999,128.910004,127.139999,127.830002,132.029999,136.869995,139.070007,142.919998,143.160004,142.059998,137.089996,131.960007,134.139999,134.990005,133.940002,137.389999,136.759995,136.910004,136.009995,135.389999,135.130005,135.369995,133.190002,130.839996,129.710007,129.869995,126.0,125.860001,125.349998,120.989998,121.260002,127.790001,125.120003,122.059998,120.129997,121.419998,116.360001,121.089996,119.980003,121.959999,121.029999,123.989998,125.57,124.760002,120.529999,119.989998,123.389999,122.540001,120.089996,120.589996,121.209999,121.389999,119.900002,122.150002,123.0,125.900002,126.209999,127.900002,130.360001,133.0,131.240005,134.429993,132.029999,134.5,134.160004,134.839996,133.110001,133.5,131.940002,134.320007,134.720001,134.389999,133.580002,133.479996,131.460007,132.539993,127.849998,128.100006,129.740005,130.210007,126.849998,125.910004,122.769997,124.970001,127.449997,126.269997,124.849998,124.690002,127.309998,125.43,127.099998,126.900002,126.849998,125.279999,124.610001,124.279999,125.059998,123.540001,125.889999,125.900002,126.739998,127.129997,126.110001,127.349998,130.479996,129.639999,130.149994,131.789993,130.460007,132.300003,133.979996,133.699997,133.410004,133.110001,134.779999,136.330002,136.960007,137.270004,139.960007,142.020004,144.570007,143.240005,145.110001,144.5,145.639999,149.149994,148.479996,146.389999,142.449997,146.149994,145.399994,146.800003,148.559998,148.990005,146.770004,144.979996,145.639999,145.860001,145.520004,147.360001,146.949997,147.059998,146.139999,146.089996,145.600006,145.860001,148.889999,149.100006,151.119995,150.190002,146.360001,146.699997,148.190002,149.710007,149.619995,148.360001,147.539993,148.600006,153.119995,151.830002,152.509995,153.649994,154.300003,156.690002,155.110001,154.070007,148.970001,149.550003,148.119995,149.029999,148.789993,146.059998,142.940002,143.429993,145.850006,146.830002,146.919998,145.369995,141.910004,142.830002,141.5,142.649994,139.139999,141.110001,142.0,143.289993,142.899994,142.809998,141.509995,140.910004,143.759995,144.839996,146.550003,148.759995,149.259995,149.479996,148.690002,148.639999,149.320007,148.850006,152.570007,149.800003,148.960007,150.020004,151.490005,150.960007,151.279999,150.440002,150.809998,147.919998,147.869995,149.990005,150.0,151.0,153.490005,157.869995,160.550003,161.020004,161.410004,161.940002,156.809998,160.240005,165.300003,164.770004,163.759995,161.839996,165.320007,171.179993,175.080002,174.559998,179.449997,175.740005,174.330002,179.300003,172.259995,171.139999,169.75,172.990005,175.639999,176.279999,180.330002,179.289993,179.380005,178.199997,177.570007,182.009995,179.699997,174.919998,172.0,172.169998,172.190002,175.080002,175.529999,172.190002,173.070007,169.800003,166.229996,164.509995,162.410004,161.619995,159.779999,159.690002,159.220001,170.330002,174.779999,174.610001,175.839996,172.899994,172.389999,171.660004,174.830002,176.279999,172.119995,168.639999,168.880005,172.789993,172.550003,168.880005,167.300003,164.320007,160.070007,162.740005,164.850006,165.119995,163.199997,166.559998,166.229996,163.169998,159.300003,157.440002,162.949997,158.520004,154.729996,150.619995,155.089996,159.589996,160.619995,163.979996,165.380005,168.820007,170.210007,174.070007,174.720001,175.600006,178.960007,177.770004,174.610001,174.309998,178.440002,175.059998,171.830002,172.139999,170.089996,165.75,167.660004,170.399994,165.289993,165.070007,167.399994,167.229996,166.419998,161.789993,162.880005,156.800003,156.570007,163.639999,157.649994,157.960007,159.479996,166.020004,156.770004,157.279999,152.059998,154.509995,146.5,142.559998,147.110001,145.539993,149.240005,140.820007,137.350006,137.589996,143.110001,140.360001,140.520004,143.779999,149.639999,148.839996,148.710007,151.210007,145.380005,146.139999,148.710007,147.960007,142.639999,137.130005,131.880005,132.759995,135.429993,130.059998,131.559998,135.869995,135.350006,138.270004,141.660004,141.660004,137.440002,139.229996,136.720001,138.929993,141.559998,142.919998,146.350006,147.039993,144.869995,145.860001,145.490005,148.470001,150.169998,147.070007,151.0,153.039993,155.350006,154.089996,152.949997,151.600006,156.789993,157.350006,162.509995,161.509995,160.009995,166.130005,165.809998,165.350006,164.869995,164.919998,169.240005,168.490005,172.100006,173.190002,173.029999,174.550003,174.149994,171.520004,167.570007,167.229996,167.529999,170.029999,163.619995,161.380005,158.910004,157.220001,157.960007,155.809998,154.529999,155.960007,154.460007,157.369995,163.429993,153.839996,155.309998,152.369995,150.699997,154.479996,156.899994,153.720001,152.740005,150.429993,150.770004,151.759995,149.839996,142.479996,138.199997,142.449997,146.100006,146.399994,145.429993,140.089996,140.419998,138.979996,138.339996,142.990005,138.380005,142.410004,143.75,143.860001,143.389999,147.270004,149.449997,152.339996,149.350006,144.800003,155.740005,153.339996,150.649994,145.029999,138.880005,138.380005,138.919998,139.5,134.869995,146.869995,149.699997,148.279999,150.039993,148.789993,150.720001,151.289993,148.009995,150.179993,151.070007,148.110001,144.220001,141.169998,148.029999,148.309998,147.809998],\"type\":\"scatter\"}],                        {\"template\":{\"data\":{\"barpolar\":[{\"marker\":{\"line\":{\"color\":\"#E5ECF6\",\"width\":0.5},\"pattern\":{\"fillmode\":\"overlay\",\"size\":10,\"solidity\":0.2}},\"type\":\"barpolar\"}],\"bar\":[{\"error_x\":{\"color\":\"#2a3f5f\"},\"error_y\":{\"color\":\"#2a3f5f\"},\"marker\":{\"line\":{\"color\":\"#E5ECF6\",\"width\":0.5},\"pattern\":{\"fillmode\":\"overlay\",\"size\":10,\"solidity\":0.2}},\"type\":\"bar\"}],\"carpet\":[{\"aaxis\":{\"endlinecolor\":\"#2a3f5f\",\"gridcolor\":\"white\",\"linecolor\":\"white\",\"minorgridcolor\":\"white\",\"startlinecolor\":\"#2a3f5f\"},\"baxis\":{\"endlinecolor\":\"#2a3f5f\",\"gridcolor\":\"white\",\"linecolor\":\"white\",\"minorgridcolor\":\"white\",\"startlinecolor\":\"#2a3f5f\"},\"type\":\"carpet\"}],\"choropleth\":[{\"colorbar\":{\"outlinewidth\":0,\"ticks\":\"\"},\"type\":\"choropleth\"}],\"contourcarpet\":[{\"colorbar\":{\"outlinewidth\":0,\"ticks\":\"\"},\"type\":\"contourcarpet\"}],\"contour\":[{\"colorbar\":{\"outlinewidth\":0,\"ticks\":\"\"},\"colorscale\":[[0.0,\"#0d0887\"],[0.1111111111111111,\"#46039f\"],[0.2222222222222222,\"#7201a8\"],[0.3333333333333333,\"#9c179e\"],[0.4444444444444444,\"#bd3786\"],[0.5555555555555556,\"#d8576b\"],[0.6666666666666666,\"#ed7953\"],[0.7777777777777778,\"#fb9f3a\"],[0.8888888888888888,\"#fdca26\"],[1.0,\"#f0f921\"]],\"type\":\"contour\"}],\"heatmapgl\":[{\"colorbar\":{\"outlinewidth\":0,\"ticks\":\"\"},\"colorscale\":[[0.0,\"#0d0887\"],[0.1111111111111111,\"#46039f\"],[0.2222222222222222,\"#7201a8\"],[0.3333333333333333,\"#9c179e\"],[0.4444444444444444,\"#bd3786\"],[0.5555555555555556,\"#d8576b\"],[0.6666666666666666,\"#ed7953\"],[0.7777777777777778,\"#fb9f3a\"],[0.8888888888888888,\"#fdca26\"],[1.0,\"#f0f921\"]],\"type\":\"heatmapgl\"}],\"heatmap\":[{\"colorbar\":{\"outlinewidth\":0,\"ticks\":\"\"},\"colorscale\":[[0.0,\"#0d0887\"],[0.1111111111111111,\"#46039f\"],[0.2222222222222222,\"#7201a8\"],[0.3333333333333333,\"#9c179e\"],[0.4444444444444444,\"#bd3786\"],[0.5555555555555556,\"#d8576b\"],[0.6666666666666666,\"#ed7953\"],[0.7777777777777778,\"#fb9f3a\"],[0.8888888888888888,\"#fdca26\"],[1.0,\"#f0f921\"]],\"type\":\"heatmap\"}],\"histogram2dcontour\":[{\"colorbar\":{\"outlinewidth\":0,\"ticks\":\"\"},\"colorscale\":[[0.0,\"#0d0887\"],[0.1111111111111111,\"#46039f\"],[0.2222222222222222,\"#7201a8\"],[0.3333333333333333,\"#9c179e\"],[0.4444444444444444,\"#bd3786\"],[0.5555555555555556,\"#d8576b\"],[0.6666666666666666,\"#ed7953\"],[0.7777777777777778,\"#fb9f3a\"],[0.8888888888888888,\"#fdca26\"],[1.0,\"#f0f921\"]],\"type\":\"histogram2dcontour\"}],\"histogram2d\":[{\"colorbar\":{\"outlinewidth\":0,\"ticks\":\"\"},\"colorscale\":[[0.0,\"#0d0887\"],[0.1111111111111111,\"#46039f\"],[0.2222222222222222,\"#7201a8\"],[0.3333333333333333,\"#9c179e\"],[0.4444444444444444,\"#bd3786\"],[0.5555555555555556,\"#d8576b\"],[0.6666666666666666,\"#ed7953\"],[0.7777777777777778,\"#fb9f3a\"],[0.8888888888888888,\"#fdca26\"],[1.0,\"#f0f921\"]],\"type\":\"histogram2d\"}],\"histogram\":[{\"marker\":{\"pattern\":{\"fillmode\":\"overlay\",\"size\":10,\"solidity\":0.2}},\"type\":\"histogram\"}],\"mesh3d\":[{\"colorbar\":{\"outlinewidth\":0,\"ticks\":\"\"},\"type\":\"mesh3d\"}],\"parcoords\":[{\"line\":{\"colorbar\":{\"outlinewidth\":0,\"ticks\":\"\"}},\"type\":\"parcoords\"}],\"pie\":[{\"automargin\":true,\"type\":\"pie\"}],\"scatter3d\":[{\"line\":{\"colorbar\":{\"outlinewidth\":0,\"ticks\":\"\"}},\"marker\":{\"colorbar\":{\"outlinewidth\":0,\"ticks\":\"\"}},\"type\":\"scatter3d\"}],\"scattercarpet\":[{\"marker\":{\"colorbar\":{\"outlinewidth\":0,\"ticks\":\"\"}},\"type\":\"scattercarpet\"}],\"scattergeo\":[{\"marker\":{\"colorbar\":{\"outlinewidth\":0,\"ticks\":\"\"}},\"type\":\"scattergeo\"}],\"scattergl\":[{\"marker\":{\"colorbar\":{\"outlinewidth\":0,\"ticks\":\"\"}},\"type\":\"scattergl\"}],\"scattermapbox\":[{\"marker\":{\"colorbar\":{\"outlinewidth\":0,\"ticks\":\"\"}},\"type\":\"scattermapbox\"}],\"scatterpolargl\":[{\"marker\":{\"colorbar\":{\"outlinewidth\":0,\"ticks\":\"\"}},\"type\":\"scatterpolargl\"}],\"scatterpolar\":[{\"marker\":{\"colorbar\":{\"outlinewidth\":0,\"ticks\":\"\"}},\"type\":\"scatterpolar\"}],\"scatter\":[{\"fillpattern\":{\"fillmode\":\"overlay\",\"size\":10,\"solidity\":0.2},\"type\":\"scatter\"}],\"scatterternary\":[{\"marker\":{\"colorbar\":{\"outlinewidth\":0,\"ticks\":\"\"}},\"type\":\"scatterternary\"}],\"surface\":[{\"colorbar\":{\"outlinewidth\":0,\"ticks\":\"\"},\"colorscale\":[[0.0,\"#0d0887\"],[0.1111111111111111,\"#46039f\"],[0.2222222222222222,\"#7201a8\"],[0.3333333333333333,\"#9c179e\"],[0.4444444444444444,\"#bd3786\"],[0.5555555555555556,\"#d8576b\"],[0.6666666666666666,\"#ed7953\"],[0.7777777777777778,\"#fb9f3a\"],[0.8888888888888888,\"#fdca26\"],[1.0,\"#f0f921\"]],\"type\":\"surface\"}],\"table\":[{\"cells\":{\"fill\":{\"color\":\"#EBF0F8\"},\"line\":{\"color\":\"white\"}},\"header\":{\"fill\":{\"color\":\"#C8D4E3\"},\"line\":{\"color\":\"white\"}},\"type\":\"table\"}]},\"layout\":{\"annotationdefaults\":{\"arrowcolor\":\"#2a3f5f\",\"arrowhead\":0,\"arrowwidth\":1},\"autotypenumbers\":\"strict\",\"coloraxis\":{\"colorbar\":{\"outlinewidth\":0,\"ticks\":\"\"}},\"colorscale\":{\"diverging\":[[0,\"#8e0152\"],[0.1,\"#c51b7d\"],[0.2,\"#de77ae\"],[0.3,\"#f1b6da\"],[0.4,\"#fde0ef\"],[0.5,\"#f7f7f7\"],[0.6,\"#e6f5d0\"],[0.7,\"#b8e186\"],[0.8,\"#7fbc41\"],[0.9,\"#4d9221\"],[1,\"#276419\"]],\"sequential\":[[0.0,\"#0d0887\"],[0.1111111111111111,\"#46039f\"],[0.2222222222222222,\"#7201a8\"],[0.3333333333333333,\"#9c179e\"],[0.4444444444444444,\"#bd3786\"],[0.5555555555555556,\"#d8576b\"],[0.6666666666666666,\"#ed7953\"],[0.7777777777777778,\"#fb9f3a\"],[0.8888888888888888,\"#fdca26\"],[1.0,\"#f0f921\"]],\"sequentialminus\":[[0.0,\"#0d0887\"],[0.1111111111111111,\"#46039f\"],[0.2222222222222222,\"#7201a8\"],[0.3333333333333333,\"#9c179e\"],[0.4444444444444444,\"#bd3786\"],[0.5555555555555556,\"#d8576b\"],[0.6666666666666666,\"#ed7953\"],[0.7777777777777778,\"#fb9f3a\"],[0.8888888888888888,\"#fdca26\"],[1.0,\"#f0f921\"]]},\"colorway\":[\"#636efa\",\"#EF553B\",\"#00cc96\",\"#ab63fa\",\"#FFA15A\",\"#19d3f3\",\"#FF6692\",\"#B6E880\",\"#FF97FF\",\"#FECB52\"],\"font\":{\"color\":\"#2a3f5f\"},\"geo\":{\"bgcolor\":\"white\",\"lakecolor\":\"white\",\"landcolor\":\"#E5ECF6\",\"showlakes\":true,\"showland\":true,\"subunitcolor\":\"white\"},\"hoverlabel\":{\"align\":\"left\"},\"hovermode\":\"closest\",\"mapbox\":{\"style\":\"light\"},\"paper_bgcolor\":\"white\",\"plot_bgcolor\":\"#E5ECF6\",\"polar\":{\"angularaxis\":{\"gridcolor\":\"white\",\"linecolor\":\"white\",\"ticks\":\"\"},\"bgcolor\":\"#E5ECF6\",\"radialaxis\":{\"gridcolor\":\"white\",\"linecolor\":\"white\",\"ticks\":\"\"}},\"scene\":{\"xaxis\":{\"backgroundcolor\":\"#E5ECF6\",\"gridcolor\":\"white\",\"gridwidth\":2,\"linecolor\":\"white\",\"showbackground\":true,\"ticks\":\"\",\"zerolinecolor\":\"white\"},\"yaxis\":{\"backgroundcolor\":\"#E5ECF6\",\"gridcolor\":\"white\",\"gridwidth\":2,\"linecolor\":\"white\",\"showbackground\":true,\"ticks\":\"\",\"zerolinecolor\":\"white\"},\"zaxis\":{\"backgroundcolor\":\"#E5ECF6\",\"gridcolor\":\"white\",\"gridwidth\":2,\"linecolor\":\"white\",\"showbackground\":true,\"ticks\":\"\",\"zerolinecolor\":\"white\"}},\"shapedefaults\":{\"line\":{\"color\":\"#2a3f5f\"}},\"ternary\":{\"aaxis\":{\"gridcolor\":\"white\",\"linecolor\":\"white\",\"ticks\":\"\"},\"baxis\":{\"gridcolor\":\"white\",\"linecolor\":\"white\",\"ticks\":\"\"},\"bgcolor\":\"#E5ECF6\",\"caxis\":{\"gridcolor\":\"white\",\"linecolor\":\"white\",\"ticks\":\"\"}},\"title\":{\"x\":0.05},\"xaxis\":{\"automargin\":true,\"gridcolor\":\"white\",\"linecolor\":\"white\",\"ticks\":\"\",\"title\":{\"standoff\":15},\"zerolinecolor\":\"white\",\"zerolinewidth\":2},\"yaxis\":{\"automargin\":true,\"gridcolor\":\"white\",\"linecolor\":\"white\",\"ticks\":\"\",\"title\":{\"standoff\":15},\"zerolinecolor\":\"white\",\"zerolinewidth\":2}}},\"title\":{\"text\":\"Stock Prices of APPLE\"},\"xaxis\":{\"title\":{\"font\":{\"color\":\"#7f7f7f\",\"family\":\"Courier New, monospace\",\"size\":18},\"text\":\"Date\"}},\"yaxis\":{\"title\":{\"font\":{\"color\":\"#7f7f7f\",\"family\":\"Courier New, monospace\",\"size\":18},\"text\":\"Price\"}}},                        {\"responsive\": true}                    ).then(function(){\n",
       "                            \n",
       "var gd = document.getElementById('1d49e7b6-ac16-4ac6-b4ce-8de0296dec87');\n",
       "var x = new MutationObserver(function (mutations, observer) {{\n",
       "        var display = window.getComputedStyle(gd).display;\n",
       "        if (!display || display === 'none') {{\n",
       "            console.log([gd, 'removed!']);\n",
       "            Plotly.purge(gd);\n",
       "            observer.disconnect();\n",
       "        }}\n",
       "}});\n",
       "\n",
       "// Listen for the removal of the full notebook cells\n",
       "var notebookContainer = gd.closest('#notebook-container');\n",
       "if (notebookContainer) {{\n",
       "    x.observe(notebookContainer, {childList: true});\n",
       "}}\n",
       "\n",
       "// Listen for the clearing of the current output cell\n",
       "var outputEl = gd.closest('.output');\n",
       "if (outputEl) {{\n",
       "    x.observe(outputEl, {childList: true});\n",
       "}}\n",
       "\n",
       "                        })                };                });            </script>        </div>"
      ]
     },
     "metadata": {},
     "output_type": "display_data"
    }
   ],
   "source": [
    "iplot(plot)"
   ]
  },
  {
   "cell_type": "code",
   "execution_count": 12,
   "id": "ecf10fc5",
   "metadata": {},
   "outputs": [],
   "source": [
    "from sklearn.model_selection import train_test_split\n",
    "\n",
    "from sklearn.preprocessing import MinMaxScaler\n",
    "from sklearn.preprocessing import StandardScaler\n",
    "\n",
    "from sklearn.metrics import mean_squared_error as mse\n",
    "from sklearn.metrics import r2_score\n",
    "\n",
    "from sklearn.linear_model import LinearRegression"
   ]
  },
  {
   "cell_type": "code",
   "execution_count": 13,
   "id": "cba53650",
   "metadata": {},
   "outputs": [],
   "source": [
    "\n",
    "X=np.array(apple_data.index).reshape(-1,1)\n",
    "Y=apple_data['Close']\n",
    "X_train,X_test,Y_train,Y_test=train_test_split(X,Y,test_size=0.3,random_state=101)"
   ]
  },
  {
   "cell_type": "code",
   "execution_count": 14,
   "id": "4a3afb51",
   "metadata": {},
   "outputs": [],
   "source": [
    "scaler=StandardScaler().fit(X_train)"
   ]
  },
  {
   "cell_type": "code",
   "execution_count": 15,
   "id": "fe6070a9",
   "metadata": {},
   "outputs": [
    {
     "data": {
      "text/plain": [
       "LinearRegression()"
      ]
     },
     "execution_count": 15,
     "metadata": {},
     "output_type": "execute_result"
    }
   ],
   "source": [
    "lm=LinearRegression()\n",
    "lm.fit(X_train,Y_train)"
   ]
  },
  {
   "cell_type": "code",
   "execution_count": 16,
   "id": "ecd5dd80",
   "metadata": {},
   "outputs": [],
   "source": [
    "trace0=go.Scatter(\n",
    "    x=X_train.T[0],\n",
    "    y=Y_train,\n",
    "    mode='markers',\n",
    "    name='Actual'\n",
    ")\n",
    "trace1=go.Scatter(\n",
    "    x=X_train.T[0],\n",
    "    y=lm.predict(X_train).T,\n",
    "    mode='lines',\n",
    "    name='predicted'\n",
    ")\n",
    "apple_data=[trace0,trace1]\n",
    "layout.xaxis.title.text='Day'\n",
    "plot2=go.Figure(data=apple_data,layout=layout)"
   ]
  },
  {
   "cell_type": "code",
   "execution_count": 17,
   "id": "20dc0ba1",
   "metadata": {
    "scrolled": true
   },
   "outputs": [
    {
     "data": {
      "application/vnd.plotly.v1+json": {
       "config": {
        "linkText": "Export to plot.ly",
        "plotlyServerURL": "https://plot.ly",
        "showLink": false
       },
       "data": [
        {
         "mode": "markers",
         "name": "Actual",
         "type": "scatter",
         "x": [
          401,
          86,
          350,
          400,
          451,
          322,
          109,
          93,
          256,
          341,
          287,
          121,
          9,
          176,
          195,
          434,
          494,
          279,
          349,
          16,
          183,
          428,
          41,
          429,
          293,
          323,
          410,
          297,
          324,
          265,
          169,
          266,
          236,
          317,
          45,
          153,
          70,
          425,
          148,
          112,
          355,
          90,
          373,
          467,
          78,
          160,
          124,
          167,
          325,
          181,
          295,
          431,
          435,
          60,
          281,
          417,
          308,
          134,
          231,
          374,
          363,
          102,
          243,
          233,
          367,
          209,
          365,
          412,
          29,
          475,
          263,
          158,
          210,
          241,
          171,
          501,
          33,
          283,
          74,
          487,
          206,
          346,
          390,
          123,
          240,
          274,
          277,
          73,
          391,
          20,
          119,
          369,
          127,
          311,
          162,
          334,
          135,
          360,
          83,
          188,
          441,
          257,
          330,
          247,
          304,
          500,
          489,
          182,
          430,
          454,
          291,
          398,
          85,
          438,
          159,
          177,
          108,
          242,
          172,
          115,
          35,
          37,
          34,
          1,
          345,
          473,
          101,
          150,
          404,
          381,
          502,
          497,
          464,
          25,
          382,
          388,
          397,
          491,
          486,
          221,
          208,
          385,
          485,
          483,
          383,
          22,
          42,
          6,
          331,
          88,
          50,
          80,
          258,
          314,
          193,
          145,
          54,
          232,
          66,
          465,
          26,
          151,
          185,
          474,
          122,
          96,
          190,
          422,
          84,
          144,
          335,
          376,
          498,
          270,
          307,
          146,
          61,
          196,
          68,
          79,
          129,
          299,
          67,
          352,
          125,
          409,
          166,
          292,
          97,
          301,
          219,
          481,
          309,
          348,
          375,
          406,
          488,
          180,
          280,
          253,
          52,
          414,
          480,
          142,
          184,
          377,
          358,
          77,
          82,
          426,
          217,
          305,
          484,
          27,
          420,
          199,
          356,
          94,
          254,
          235,
          23,
          21,
          149,
          285,
          416,
          131,
          46,
          338,
          226,
          207,
          163,
          244,
          357,
          71,
          366,
          490,
          421,
          262,
          120,
          392,
          197,
          250,
          14,
          303,
          340,
          479,
          3,
          28,
          113,
          450,
          395,
          92,
          458,
          58,
          442,
          386,
          173,
          137,
          214,
          229,
          47,
          174,
          462,
          282,
          378,
          342,
          459,
          411,
          276,
          448,
          10,
          30,
          419,
          468,
          191,
          380,
          455,
          152,
          353,
          203,
          248,
          273,
          140,
          362,
          116,
          0,
          300,
          399,
          447,
          327,
          402,
          449,
          329,
          238,
          294,
          103,
          440,
          436,
          466,
          7,
          319,
          284,
          99,
          164,
          62,
          264,
          239,
          457,
          105,
          384,
          343,
          107,
          223,
          76,
          394,
          126,
          275,
          249,
          328,
          44,
          418,
          59,
          476,
          413,
          371,
          136,
          111,
          339,
          49,
          493,
          477,
          396,
          5,
          110,
          192,
          220,
          316,
          245,
          424,
          499,
          132,
          40,
          461,
          393,
          495,
          75,
          87,
          63,
          326,
          337,
          11,
          351
         ],
         "y": [
          144.869995,
          133,
          156.800003,
          147.039993,
          156.899994,
          159.589996,
          122.769997,
          133.110001,
          174.559998,
          167.660004,
          159.779999,
          124.610001,
          127.809998,
          150.190002,
          148.119995,
          170.029999,
          151.289993,
          175.529999,
          162.880005,
          136.690002,
          147.539993,
          174.550003,
          133.940002,
          174.149994,
          175.839996,
          160.619995,
          154.089996,
          174.830002,
          163.979996,
          175.639999,
          146.139999,
          176.279999,
          147.919998,
          162.949997,
          136.009995,
          148.479996,
          124.760002,
          172.100006,
          143.240005,
          126.269997,
          159.479996,
          134.5,
          149.639999,
          138.339996,
          121.389999,
          148.990005,
          123.540001,
          146.949997,
          165.380005,
          149.619995,
          172.389999,
          167.570007,
          163.619995,
          122.059998,
          173.070007,
          160.009995,
          162.740005,
          131.789993,
          151.490005,
          148.839996,
          147.110001,
          132.539993,
          160.550003,
          151.279999,
          137.350006,
          139.139999,
          149.240005,
          151.600006,
          127.139999,
          149.449997,
          169.75,
          146.800003,
          141.110001,
          153.490005,
          145.600006,
          148.029999,
          139.070007,
          166.229996,
          122.540001,
          134.869995,
          142.830002,
          167.229996,
          138.270004,
          125.059998,
          151,
          174.919998,
          172.190002,
          123.389999,
          141.660004,
          129.410004,
          126.849998,
          143.110001,
          126.739998,
          163.199997,
          144.979996,
          174.309998,
          130.460007,
          154.509995,
          126.209999,
          153.649994,
          154.529999,
          179.449997,
          175.600006,
          156.809998,
          168.880005,
          141.169998,
          149.699997,
          148.360001,
          171.520004,
          150.429993,
          174.779999,
          142.919998,
          130.360001,
          157.220001,
          148.559998,
          146.360001,
          125.910004,
          157.869995,
          145.860001,
          127.309998,
          143.160004,
          137.089996,
          142.919998,
          122.25,
          167.399994,
          143.389999,
          131.460007,
          144.5,
          148.470001,
          142.639999,
          148.309998,
          151.070007,
          140.089996,
          128.979996,
          137.130005,
          135.869995,
          141.559998,
          150.039993,
          139.5,
          149.259995,
          142.649994,
          135.429993,
          138.919998,
          138.880005,
          131.880005,
          126.599998,
          137.389999,
          122.410004,
          178.960007,
          134.429993,
          130.839996,
          122.150002,
          175.740005,
          163.169998,
          148.970001,
          139.960007,
          125.860001,
          150.960007,
          121.959999,
          140.419998,
          128.800003,
          145.639999,
          153.119995,
          147.270004,
          124.279999,
          134.320007,
          156.690002,
          164.919998,
          127.900002,
          137.270004,
          178.440002,
          151.210007,
          148.110001,
          178.199997,
          160.070007,
          142.020004,
          120.129997,
          149.029999,
          123.989998,
          119.900002,
          126.110001,
          172.119995,
          121.029999,
          163.639999,
          125.889999,
          155.350006,
          147.360001,
          174.610001,
          134.720001,
          168.880005,
          146.550003,
          150.649994,
          164.850006,
          161.789993,
          148.710007,
          147.070007,
          146.869995,
          149.710007,
          172.190002,
          165.320007,
          129.869995,
          157.350006,
          153.339996,
          136.330002,
          148.600006,
          145.380005,
          157.279999,
          121.209999,
          125.900002,
          173.190002,
          143.759995,
          167.300003,
          138.380005,
          130.889999,
          165.350006,
          142.940002,
          166.020004,
          133.5,
          171.179993,
          150.809998,
          130.919998,
          131.009995,
          145.110001,
          162.410004,
          161.509995,
          130.479996,
          135.389999,
          172.139999,
          148.850006,
          141.5,
          145.639999,
          161.020004,
          156.770004,
          120.529999,
          140.820007,
          148.279999,
          164.869995,
          171.139999,
          125.279999,
          141.660004,
          148.789993,
          164.770004,
          130.960007,
          172.550003,
          165.75,
          155.740005,
          124.379997,
          128.910004,
          124.849998,
          154.479996,
          136.720001,
          134.839996,
          142.479996,
          127.790001,
          155.960007,
          130.059998,
          148.889999,
          133.979996,
          142.809998,
          148.960007,
          135.130005,
          149.100006,
          146.399994,
          169.800003,
          146.139999,
          170.399994,
          138.199997,
          152.949997,
          172.169998,
          152.369995,
          128.699997,
          127.830002,
          165.809998,
          142.990005,
          155.110001,
          147.960007,
          150.770004,
          149.149994,
          157.649994,
          146.919998,
          160.240005,
          179.699997,
          133.110001,
          142.559998,
          125.43,
          122.940002,
          168.639999,
          146.350006,
          155.309998,
          170.210007,
          145.860001,
          150.699997,
          174.720001,
          149.990005,
          172.899994,
          127.849998,
          155.809998,
          161.380005,
          138.979996,
          121.779999,
          154.729996,
          164.509995,
          133.580002,
          145.860001,
          121.419998,
          172.990005,
          150,
          149.839996,
          129.740005,
          132.759995,
          165.289993,
          126.849998,
          148.690002,
          120.589996,
          139.229996,
          125.900002,
          172,
          165.300003,
          174.070007,
          136.910004,
          166.130005,
          125.120003,
          152.339996,
          156.789993,
          140.520004,
          132.300003,
          127.449997,
          170.089996,
          133.190002,
          150.720001,
          149.350006,
          138.929993,
          123.239998,
          124.970001,
          154.070007,
          148.759995,
          157.440002,
          161.410004,
          168.490005,
          144.220001,
          129.639999,
          134.990005,
          146.100006,
          137.440002,
          148.009995,
          120.089996,
          131.240005,
          116.360001,
          168.820007,
          171.830002,
          126.660004,
          156.570007
         ]
        },
        {
         "mode": "lines",
         "name": "predicted",
         "type": "scatter",
         "x": [
          401,
          86,
          350,
          400,
          451,
          322,
          109,
          93,
          256,
          341,
          287,
          121,
          9,
          176,
          195,
          434,
          494,
          279,
          349,
          16,
          183,
          428,
          41,
          429,
          293,
          323,
          410,
          297,
          324,
          265,
          169,
          266,
          236,
          317,
          45,
          153,
          70,
          425,
          148,
          112,
          355,
          90,
          373,
          467,
          78,
          160,
          124,
          167,
          325,
          181,
          295,
          431,
          435,
          60,
          281,
          417,
          308,
          134,
          231,
          374,
          363,
          102,
          243,
          233,
          367,
          209,
          365,
          412,
          29,
          475,
          263,
          158,
          210,
          241,
          171,
          501,
          33,
          283,
          74,
          487,
          206,
          346,
          390,
          123,
          240,
          274,
          277,
          73,
          391,
          20,
          119,
          369,
          127,
          311,
          162,
          334,
          135,
          360,
          83,
          188,
          441,
          257,
          330,
          247,
          304,
          500,
          489,
          182,
          430,
          454,
          291,
          398,
          85,
          438,
          159,
          177,
          108,
          242,
          172,
          115,
          35,
          37,
          34,
          1,
          345,
          473,
          101,
          150,
          404,
          381,
          502,
          497,
          464,
          25,
          382,
          388,
          397,
          491,
          486,
          221,
          208,
          385,
          485,
          483,
          383,
          22,
          42,
          6,
          331,
          88,
          50,
          80,
          258,
          314,
          193,
          145,
          54,
          232,
          66,
          465,
          26,
          151,
          185,
          474,
          122,
          96,
          190,
          422,
          84,
          144,
          335,
          376,
          498,
          270,
          307,
          146,
          61,
          196,
          68,
          79,
          129,
          299,
          67,
          352,
          125,
          409,
          166,
          292,
          97,
          301,
          219,
          481,
          309,
          348,
          375,
          406,
          488,
          180,
          280,
          253,
          52,
          414,
          480,
          142,
          184,
          377,
          358,
          77,
          82,
          426,
          217,
          305,
          484,
          27,
          420,
          199,
          356,
          94,
          254,
          235,
          23,
          21,
          149,
          285,
          416,
          131,
          46,
          338,
          226,
          207,
          163,
          244,
          357,
          71,
          366,
          490,
          421,
          262,
          120,
          392,
          197,
          250,
          14,
          303,
          340,
          479,
          3,
          28,
          113,
          450,
          395,
          92,
          458,
          58,
          442,
          386,
          173,
          137,
          214,
          229,
          47,
          174,
          462,
          282,
          378,
          342,
          459,
          411,
          276,
          448,
          10,
          30,
          419,
          468,
          191,
          380,
          455,
          152,
          353,
          203,
          248,
          273,
          140,
          362,
          116,
          0,
          300,
          399,
          447,
          327,
          402,
          449,
          329,
          238,
          294,
          103,
          440,
          436,
          466,
          7,
          319,
          284,
          99,
          164,
          62,
          264,
          239,
          457,
          105,
          384,
          343,
          107,
          223,
          76,
          394,
          126,
          275,
          249,
          328,
          44,
          418,
          59,
          476,
          413,
          371,
          136,
          111,
          339,
          49,
          493,
          477,
          396,
          5,
          110,
          192,
          220,
          316,
          245,
          424,
          499,
          132,
          40,
          461,
          393,
          495,
          75,
          87,
          63,
          326,
          337,
          11,
          351
         ],
         "y": [
          156.284013389331,
          136.99499474023642,
          153.16102941757282,
          156.2227784094926,
          159.34576238125078,
          151.44644998209776,
          138.4033992765195,
          137.4236395991052,
          147.40494131276364,
          152.60991459902726,
          149.30322568775392,
          139.13821903458026,
          132.27990129267997,
          142.50614292569202,
          143.66960754262152,
          158.30476772399805,
          161.97886651430179,
          148.81334584904675,
          153.09979443773443,
          132.70854615154875,
          142.93478778456077,
          157.93735784496766,
          134.2394206475086,
          157.99859282480605,
          149.67063556678428,
          151.50768496193615,
          156.83512820787655,
          149.91557548613787,
          151.56891994177454,
          147.9560561313092,
          142.07749806682324,
          148.0172911111476,
          146.18024171599575,
          151.14027508290576,
          134.4843605668622,
          141.0977383894089,
          136.0152350628221,
          157.7536529054525,
          140.79156349021693,
          138.5871042160347,
          153.4672043167648,
          137.23993465959,
          154.5694339538559,
          160.3255220586651,
          136.50511490152925,
          141.52638324827768,
          139.32192397409545,
          141.95502810714646,
          151.63015492161293,
          142.812317824884,
          149.79310552646106,
          158.12106278448286,
          158.36600270383644,
          135.40288526443814,
          148.93581580872353,
          157.26377306674533,
          150.5891602643602,
          139.9342737724794,
          145.87406681680375,
          154.63066893369432,
          153.95708415547196,
          137.97475441765076,
          146.6088865748645,
          145.99653677648055,
          154.20202407482554,
          144.52689726035905,
          154.07955411514877,
          156.95759816755333,
          133.5046008894479,
          160.81540189737225,
          147.83358617163242,
          141.4039132886009,
          144.58813224019747,
          146.48641661518772,
          142.19996802650004,
          162.40751137317054,
          133.74954080880147,
          149.05828576840034,
          136.26017498217567,
          161.550221655433,
          144.34319232084388,
          152.91608949821924,
          155.61042861110863,
          139.26068899425707,
          146.42518163534933,
          148.50717094985475,
          148.69087588936995,
          136.19894000233728,
          155.67166359094705,
          132.95348607090233,
          139.01574907490348,
          154.32449403450232,
          139.50562891361062,
          150.7728652038754,
          141.6488532079545,
          152.18126974015848,
          139.9955087523178,
          153.77337921595677,
          136.81128980072123,
          143.24096268375277,
          158.7334125828668,
          147.46617629260206,
          151.93632982080493,
          146.85382649421808,
          150.34422034500662,
          162.34627639333215,
          161.67269161510978,
          142.87355280472238,
          158.05982780464447,
          159.52946732076595,
          149.54816560710748,
          156.1003084498158,
          136.93375976039803,
          158.5497076433516,
          141.4651482684393,
          142.5673779055304,
          138.34216429668112,
          146.5476515950261,
          142.26120300633843,
          138.7708091555499,
          133.87201076847825,
          133.99448072815505,
          133.81077578863986,
          131.7900214539728,
          152.85485451838085,
          160.69293193769548,
          137.91351943781234,
          140.91403344989374,
          156.4677183288462,
          155.05931379256307,
          162.46874635300892,
          162.16257145381695,
          160.1418171191499,
          133.2596609700943,
          155.1205487724015,
          155.48795865143185,
          156.0390734699774,
          161.7951615747866,
          161.48898667559462,
          145.2617170184198,
          144.46566228052066,
          155.30425371191666,
          161.4277516957562,
          161.30528173607942,
          155.18178375223988,
          133.0759560305791,
          134.30065562734703,
          132.09619635316477,
          151.99756480064332,
          137.1174646999132,
          134.7905354660542,
          136.62758486120606,
          147.52741127244045,
          150.9565701433906,
          143.54713758294474,
          140.60785855070176,
          135.03547538540778,
          145.93530179664216,
          135.7702951434685,
          160.2030520989883,
          133.3208959499327,
          140.97526842973213,
          143.05725774423757,
          160.75416691753387,
          139.19945401441865,
          137.60734453862037,
          143.36343264342955,
          157.5699479659373,
          136.87252478055962,
          140.54662357086335,
          152.2425047199969,
          154.7531388933711,
          162.22380643365534,
          148.2622310305012,
          150.5279252845218,
          140.66909353054015,
          135.46412024427653,
          143.7308425224599,
          135.8927651031453,
          136.56634988136764,
          139.62809887328743,
          150.03804544581465,
          135.83153012330692,
          153.2834993772496,
          139.38315895393384,
          156.77389322803816,
          141.89379312730804,
          149.6094005869459,
          137.66857951845876,
          150.16051540549145,
          145.13924705874302,
          161.18281177640262,
          150.65039524419862,
          153.03855945789604,
          154.6919039135327,
          156.59018828852297,
          161.6114566352714,
          142.7510828450456,
          148.87458082888514,
          147.22123637324847,
          134.91300542573097,
          157.08006812723013,
          161.12157679656423,
          140.42415361118657,
          142.99602276439919,
          154.8143738732095,
          153.65090925628,
          136.44387992169086,
          136.75005482088284,
          157.8148878852909,
          145.01677709906622,
          150.40545532484504,
          161.3665167159178,
          133.38213092977108,
          157.4474780062605,
          143.9145474619751,
          153.5284392966032,
          137.4848745789436,
          147.28247135308686,
          146.11900673615733,
          133.1371910104175,
          133.01472105074072,
          140.85279847005535,
          149.18075572807712,
          157.2025380869069,
          139.7505688329642,
          134.5455955467006,
          152.42620965951207,
          145.56789191761177,
          144.40442730068227,
          141.71008818779288,
          146.67012155470292,
          153.5896742764416,
          136.07647004266047,
          154.14078909498716,
          161.73392659494817,
          157.50871298609889,
          147.77235119179403,
          139.07698405474187,
          155.73289857078544,
          143.79207750229833,
          147.03753143373328,
          132.58607619187194,
          150.28298536516823,
          152.54867961918887,
          161.06034181672584,
          131.9124914136496,
          133.44336590960947,
          138.6483391958731,
          159.28452740141236,
          155.9166035103006,
          137.36240461926678,
          159.77440724011953,
          135.28041530476133,
          158.7946475627052,
          155.36548869175505,
          142.32243798617682,
          140.1179787119946,
          144.83307215955105,
          145.75159685712697,
          134.606830526539,
          142.3836729660152,
          160.0193471594731,
          148.99705078856192,
          154.8756088530479,
          152.67114957886565,
          159.83564221995792,
          156.89636318771494,
          148.62964090953156,
          159.16205744173558,
          132.34113627251836,
          133.56583586928627,
          157.3862430264221,
          160.38675703850348,
          143.42466762326794,
          154.99807881272469,
          159.59070230060433,
          141.0365034095705,
          153.34473435708802,
          144.1594873813287,
          146.91506147405647,
          148.44593597001636,
          140.30168365150976,
          153.89584917563357,
          138.8320441353883,
          131.7287864741344,
          150.09928042565303,
          156.16154342965422,
          159.1008224618972,
          151.75262488128973,
          156.34524836916938,
          159.22329242157397,
          151.8750948409665,
          146.30271167567253,
          149.73187054662267,
          138.03598939748915,
          158.67217760302842,
          158.42723768367483,
          160.2642870788267,
          132.1574313330032,
          151.26274504258257,
          149.11952074823873,
          137.79104947813556,
          141.77132316763127,
          135.52535522411492,
          147.8948211514708,
          146.36394665551092,
          159.71317226028114,
          138.15845935716592,
          155.24301873207827,
          152.73238455870404,
          138.28092931684273,
          145.3841869780966,
          136.38264494185248,
          155.85536853046221,
          139.44439393377223,
          148.56840592969317,
          146.9762964538949,
          151.81385986112812,
          134.4231255870238,
          157.32500804658372,
          135.34165028459975,
          160.87663687721064,
          157.01883314739175,
          154.44696399417913,
          140.05674373215618,
          138.5258692361963,
          152.48744463935049,
          134.72930048621578,
          161.91763153446337,
          160.93787185704906,
          155.97783849013902,
          132.03496137332638,
          138.4646342563579,
          143.48590260310635,
          145.2004820385814,
          151.07904010306737,
          146.7313565345413,
          157.69241792561408,
          162.28504141349376,
          139.81180381280262,
          134.17818566767022,
          159.95811217963472,
          155.79413355062383,
          162.04010149414017,
          136.32140996201406,
          137.0562297200748,
          135.58659020395334,
          151.69138990145132,
          152.36497467967368,
          132.40237125235677,
          153.2222643974112
         ]
        }
       ],
       "layout": {
        "template": {
         "data": {
          "bar": [
           {
            "error_x": {
             "color": "#2a3f5f"
            },
            "error_y": {
             "color": "#2a3f5f"
            },
            "marker": {
             "line": {
              "color": "#E5ECF6",
              "width": 0.5
             },
             "pattern": {
              "fillmode": "overlay",
              "size": 10,
              "solidity": 0.2
             }
            },
            "type": "bar"
           }
          ],
          "barpolar": [
           {
            "marker": {
             "line": {
              "color": "#E5ECF6",
              "width": 0.5
             },
             "pattern": {
              "fillmode": "overlay",
              "size": 10,
              "solidity": 0.2
             }
            },
            "type": "barpolar"
           }
          ],
          "carpet": [
           {
            "aaxis": {
             "endlinecolor": "#2a3f5f",
             "gridcolor": "white",
             "linecolor": "white",
             "minorgridcolor": "white",
             "startlinecolor": "#2a3f5f"
            },
            "baxis": {
             "endlinecolor": "#2a3f5f",
             "gridcolor": "white",
             "linecolor": "white",
             "minorgridcolor": "white",
             "startlinecolor": "#2a3f5f"
            },
            "type": "carpet"
           }
          ],
          "choropleth": [
           {
            "colorbar": {
             "outlinewidth": 0,
             "ticks": ""
            },
            "type": "choropleth"
           }
          ],
          "contour": [
           {
            "colorbar": {
             "outlinewidth": 0,
             "ticks": ""
            },
            "colorscale": [
             [
              0,
              "#0d0887"
             ],
             [
              0.1111111111111111,
              "#46039f"
             ],
             [
              0.2222222222222222,
              "#7201a8"
             ],
             [
              0.3333333333333333,
              "#9c179e"
             ],
             [
              0.4444444444444444,
              "#bd3786"
             ],
             [
              0.5555555555555556,
              "#d8576b"
             ],
             [
              0.6666666666666666,
              "#ed7953"
             ],
             [
              0.7777777777777778,
              "#fb9f3a"
             ],
             [
              0.8888888888888888,
              "#fdca26"
             ],
             [
              1,
              "#f0f921"
             ]
            ],
            "type": "contour"
           }
          ],
          "contourcarpet": [
           {
            "colorbar": {
             "outlinewidth": 0,
             "ticks": ""
            },
            "type": "contourcarpet"
           }
          ],
          "heatmap": [
           {
            "colorbar": {
             "outlinewidth": 0,
             "ticks": ""
            },
            "colorscale": [
             [
              0,
              "#0d0887"
             ],
             [
              0.1111111111111111,
              "#46039f"
             ],
             [
              0.2222222222222222,
              "#7201a8"
             ],
             [
              0.3333333333333333,
              "#9c179e"
             ],
             [
              0.4444444444444444,
              "#bd3786"
             ],
             [
              0.5555555555555556,
              "#d8576b"
             ],
             [
              0.6666666666666666,
              "#ed7953"
             ],
             [
              0.7777777777777778,
              "#fb9f3a"
             ],
             [
              0.8888888888888888,
              "#fdca26"
             ],
             [
              1,
              "#f0f921"
             ]
            ],
            "type": "heatmap"
           }
          ],
          "heatmapgl": [
           {
            "colorbar": {
             "outlinewidth": 0,
             "ticks": ""
            },
            "colorscale": [
             [
              0,
              "#0d0887"
             ],
             [
              0.1111111111111111,
              "#46039f"
             ],
             [
              0.2222222222222222,
              "#7201a8"
             ],
             [
              0.3333333333333333,
              "#9c179e"
             ],
             [
              0.4444444444444444,
              "#bd3786"
             ],
             [
              0.5555555555555556,
              "#d8576b"
             ],
             [
              0.6666666666666666,
              "#ed7953"
             ],
             [
              0.7777777777777778,
              "#fb9f3a"
             ],
             [
              0.8888888888888888,
              "#fdca26"
             ],
             [
              1,
              "#f0f921"
             ]
            ],
            "type": "heatmapgl"
           }
          ],
          "histogram": [
           {
            "marker": {
             "pattern": {
              "fillmode": "overlay",
              "size": 10,
              "solidity": 0.2
             }
            },
            "type": "histogram"
           }
          ],
          "histogram2d": [
           {
            "colorbar": {
             "outlinewidth": 0,
             "ticks": ""
            },
            "colorscale": [
             [
              0,
              "#0d0887"
             ],
             [
              0.1111111111111111,
              "#46039f"
             ],
             [
              0.2222222222222222,
              "#7201a8"
             ],
             [
              0.3333333333333333,
              "#9c179e"
             ],
             [
              0.4444444444444444,
              "#bd3786"
             ],
             [
              0.5555555555555556,
              "#d8576b"
             ],
             [
              0.6666666666666666,
              "#ed7953"
             ],
             [
              0.7777777777777778,
              "#fb9f3a"
             ],
             [
              0.8888888888888888,
              "#fdca26"
             ],
             [
              1,
              "#f0f921"
             ]
            ],
            "type": "histogram2d"
           }
          ],
          "histogram2dcontour": [
           {
            "colorbar": {
             "outlinewidth": 0,
             "ticks": ""
            },
            "colorscale": [
             [
              0,
              "#0d0887"
             ],
             [
              0.1111111111111111,
              "#46039f"
             ],
             [
              0.2222222222222222,
              "#7201a8"
             ],
             [
              0.3333333333333333,
              "#9c179e"
             ],
             [
              0.4444444444444444,
              "#bd3786"
             ],
             [
              0.5555555555555556,
              "#d8576b"
             ],
             [
              0.6666666666666666,
              "#ed7953"
             ],
             [
              0.7777777777777778,
              "#fb9f3a"
             ],
             [
              0.8888888888888888,
              "#fdca26"
             ],
             [
              1,
              "#f0f921"
             ]
            ],
            "type": "histogram2dcontour"
           }
          ],
          "mesh3d": [
           {
            "colorbar": {
             "outlinewidth": 0,
             "ticks": ""
            },
            "type": "mesh3d"
           }
          ],
          "parcoords": [
           {
            "line": {
             "colorbar": {
              "outlinewidth": 0,
              "ticks": ""
             }
            },
            "type": "parcoords"
           }
          ],
          "pie": [
           {
            "automargin": true,
            "type": "pie"
           }
          ],
          "scatter": [
           {
            "fillpattern": {
             "fillmode": "overlay",
             "size": 10,
             "solidity": 0.2
            },
            "type": "scatter"
           }
          ],
          "scatter3d": [
           {
            "line": {
             "colorbar": {
              "outlinewidth": 0,
              "ticks": ""
             }
            },
            "marker": {
             "colorbar": {
              "outlinewidth": 0,
              "ticks": ""
             }
            },
            "type": "scatter3d"
           }
          ],
          "scattercarpet": [
           {
            "marker": {
             "colorbar": {
              "outlinewidth": 0,
              "ticks": ""
             }
            },
            "type": "scattercarpet"
           }
          ],
          "scattergeo": [
           {
            "marker": {
             "colorbar": {
              "outlinewidth": 0,
              "ticks": ""
             }
            },
            "type": "scattergeo"
           }
          ],
          "scattergl": [
           {
            "marker": {
             "colorbar": {
              "outlinewidth": 0,
              "ticks": ""
             }
            },
            "type": "scattergl"
           }
          ],
          "scattermapbox": [
           {
            "marker": {
             "colorbar": {
              "outlinewidth": 0,
              "ticks": ""
             }
            },
            "type": "scattermapbox"
           }
          ],
          "scatterpolar": [
           {
            "marker": {
             "colorbar": {
              "outlinewidth": 0,
              "ticks": ""
             }
            },
            "type": "scatterpolar"
           }
          ],
          "scatterpolargl": [
           {
            "marker": {
             "colorbar": {
              "outlinewidth": 0,
              "ticks": ""
             }
            },
            "type": "scatterpolargl"
           }
          ],
          "scatterternary": [
           {
            "marker": {
             "colorbar": {
              "outlinewidth": 0,
              "ticks": ""
             }
            },
            "type": "scatterternary"
           }
          ],
          "surface": [
           {
            "colorbar": {
             "outlinewidth": 0,
             "ticks": ""
            },
            "colorscale": [
             [
              0,
              "#0d0887"
             ],
             [
              0.1111111111111111,
              "#46039f"
             ],
             [
              0.2222222222222222,
              "#7201a8"
             ],
             [
              0.3333333333333333,
              "#9c179e"
             ],
             [
              0.4444444444444444,
              "#bd3786"
             ],
             [
              0.5555555555555556,
              "#d8576b"
             ],
             [
              0.6666666666666666,
              "#ed7953"
             ],
             [
              0.7777777777777778,
              "#fb9f3a"
             ],
             [
              0.8888888888888888,
              "#fdca26"
             ],
             [
              1,
              "#f0f921"
             ]
            ],
            "type": "surface"
           }
          ],
          "table": [
           {
            "cells": {
             "fill": {
              "color": "#EBF0F8"
             },
             "line": {
              "color": "white"
             }
            },
            "header": {
             "fill": {
              "color": "#C8D4E3"
             },
             "line": {
              "color": "white"
             }
            },
            "type": "table"
           }
          ]
         },
         "layout": {
          "annotationdefaults": {
           "arrowcolor": "#2a3f5f",
           "arrowhead": 0,
           "arrowwidth": 1
          },
          "autotypenumbers": "strict",
          "coloraxis": {
           "colorbar": {
            "outlinewidth": 0,
            "ticks": ""
           }
          },
          "colorscale": {
           "diverging": [
            [
             0,
             "#8e0152"
            ],
            [
             0.1,
             "#c51b7d"
            ],
            [
             0.2,
             "#de77ae"
            ],
            [
             0.3,
             "#f1b6da"
            ],
            [
             0.4,
             "#fde0ef"
            ],
            [
             0.5,
             "#f7f7f7"
            ],
            [
             0.6,
             "#e6f5d0"
            ],
            [
             0.7,
             "#b8e186"
            ],
            [
             0.8,
             "#7fbc41"
            ],
            [
             0.9,
             "#4d9221"
            ],
            [
             1,
             "#276419"
            ]
           ],
           "sequential": [
            [
             0,
             "#0d0887"
            ],
            [
             0.1111111111111111,
             "#46039f"
            ],
            [
             0.2222222222222222,
             "#7201a8"
            ],
            [
             0.3333333333333333,
             "#9c179e"
            ],
            [
             0.4444444444444444,
             "#bd3786"
            ],
            [
             0.5555555555555556,
             "#d8576b"
            ],
            [
             0.6666666666666666,
             "#ed7953"
            ],
            [
             0.7777777777777778,
             "#fb9f3a"
            ],
            [
             0.8888888888888888,
             "#fdca26"
            ],
            [
             1,
             "#f0f921"
            ]
           ],
           "sequentialminus": [
            [
             0,
             "#0d0887"
            ],
            [
             0.1111111111111111,
             "#46039f"
            ],
            [
             0.2222222222222222,
             "#7201a8"
            ],
            [
             0.3333333333333333,
             "#9c179e"
            ],
            [
             0.4444444444444444,
             "#bd3786"
            ],
            [
             0.5555555555555556,
             "#d8576b"
            ],
            [
             0.6666666666666666,
             "#ed7953"
            ],
            [
             0.7777777777777778,
             "#fb9f3a"
            ],
            [
             0.8888888888888888,
             "#fdca26"
            ],
            [
             1,
             "#f0f921"
            ]
           ]
          },
          "colorway": [
           "#636efa",
           "#EF553B",
           "#00cc96",
           "#ab63fa",
           "#FFA15A",
           "#19d3f3",
           "#FF6692",
           "#B6E880",
           "#FF97FF",
           "#FECB52"
          ],
          "font": {
           "color": "#2a3f5f"
          },
          "geo": {
           "bgcolor": "white",
           "lakecolor": "white",
           "landcolor": "#E5ECF6",
           "showlakes": true,
           "showland": true,
           "subunitcolor": "white"
          },
          "hoverlabel": {
           "align": "left"
          },
          "hovermode": "closest",
          "mapbox": {
           "style": "light"
          },
          "paper_bgcolor": "white",
          "plot_bgcolor": "#E5ECF6",
          "polar": {
           "angularaxis": {
            "gridcolor": "white",
            "linecolor": "white",
            "ticks": ""
           },
           "bgcolor": "#E5ECF6",
           "radialaxis": {
            "gridcolor": "white",
            "linecolor": "white",
            "ticks": ""
           }
          },
          "scene": {
           "xaxis": {
            "backgroundcolor": "#E5ECF6",
            "gridcolor": "white",
            "gridwidth": 2,
            "linecolor": "white",
            "showbackground": true,
            "ticks": "",
            "zerolinecolor": "white"
           },
           "yaxis": {
            "backgroundcolor": "#E5ECF6",
            "gridcolor": "white",
            "gridwidth": 2,
            "linecolor": "white",
            "showbackground": true,
            "ticks": "",
            "zerolinecolor": "white"
           },
           "zaxis": {
            "backgroundcolor": "#E5ECF6",
            "gridcolor": "white",
            "gridwidth": 2,
            "linecolor": "white",
            "showbackground": true,
            "ticks": "",
            "zerolinecolor": "white"
           }
          },
          "shapedefaults": {
           "line": {
            "color": "#2a3f5f"
           }
          },
          "ternary": {
           "aaxis": {
            "gridcolor": "white",
            "linecolor": "white",
            "ticks": ""
           },
           "baxis": {
            "gridcolor": "white",
            "linecolor": "white",
            "ticks": ""
           },
           "bgcolor": "#E5ECF6",
           "caxis": {
            "gridcolor": "white",
            "linecolor": "white",
            "ticks": ""
           }
          },
          "title": {
           "x": 0.05
          },
          "xaxis": {
           "automargin": true,
           "gridcolor": "white",
           "linecolor": "white",
           "ticks": "",
           "title": {
            "standoff": 15
           },
           "zerolinecolor": "white",
           "zerolinewidth": 2
          },
          "yaxis": {
           "automargin": true,
           "gridcolor": "white",
           "linecolor": "white",
           "ticks": "",
           "title": {
            "standoff": 15
           },
           "zerolinecolor": "white",
           "zerolinewidth": 2
          }
         }
        },
        "title": {
         "text": "Stock Prices of APPLE"
        },
        "xaxis": {
         "title": {
          "font": {
           "color": "#7f7f7f",
           "family": "Courier New, monospace",
           "size": 18
          },
          "text": "Day"
         }
        },
        "yaxis": {
         "title": {
          "font": {
           "color": "#7f7f7f",
           "family": "Courier New, monospace",
           "size": 18
          },
          "text": "Price"
         }
        }
       }
      },
      "text/html": [
       "<div>                            <div id=\"60271ee9-7e35-473c-a40b-44b655c6ad45\" class=\"plotly-graph-div\" style=\"height:525px; width:100%;\"></div>            <script type=\"text/javascript\">                require([\"plotly\"], function(Plotly) {                    window.PLOTLYENV=window.PLOTLYENV || {};                                    if (document.getElementById(\"60271ee9-7e35-473c-a40b-44b655c6ad45\")) {                    Plotly.newPlot(                        \"60271ee9-7e35-473c-a40b-44b655c6ad45\",                        [{\"mode\":\"markers\",\"name\":\"Actual\",\"x\":[401,86,350,400,451,322,109,93,256,341,287,121,9,176,195,434,494,279,349,16,183,428,41,429,293,323,410,297,324,265,169,266,236,317,45,153,70,425,148,112,355,90,373,467,78,160,124,167,325,181,295,431,435,60,281,417,308,134,231,374,363,102,243,233,367,209,365,412,29,475,263,158,210,241,171,501,33,283,74,487,206,346,390,123,240,274,277,73,391,20,119,369,127,311,162,334,135,360,83,188,441,257,330,247,304,500,489,182,430,454,291,398,85,438,159,177,108,242,172,115,35,37,34,1,345,473,101,150,404,381,502,497,464,25,382,388,397,491,486,221,208,385,485,483,383,22,42,6,331,88,50,80,258,314,193,145,54,232,66,465,26,151,185,474,122,96,190,422,84,144,335,376,498,270,307,146,61,196,68,79,129,299,67,352,125,409,166,292,97,301,219,481,309,348,375,406,488,180,280,253,52,414,480,142,184,377,358,77,82,426,217,305,484,27,420,199,356,94,254,235,23,21,149,285,416,131,46,338,226,207,163,244,357,71,366,490,421,262,120,392,197,250,14,303,340,479,3,28,113,450,395,92,458,58,442,386,173,137,214,229,47,174,462,282,378,342,459,411,276,448,10,30,419,468,191,380,455,152,353,203,248,273,140,362,116,0,300,399,447,327,402,449,329,238,294,103,440,436,466,7,319,284,99,164,62,264,239,457,105,384,343,107,223,76,394,126,275,249,328,44,418,59,476,413,371,136,111,339,49,493,477,396,5,110,192,220,316,245,424,499,132,40,461,393,495,75,87,63,326,337,11,351],\"y\":[144.869995,133.0,156.800003,147.039993,156.899994,159.589996,122.769997,133.110001,174.559998,167.660004,159.779999,124.610001,127.809998,150.190002,148.119995,170.029999,151.289993,175.529999,162.880005,136.690002,147.539993,174.550003,133.940002,174.149994,175.839996,160.619995,154.089996,174.830002,163.979996,175.639999,146.139999,176.279999,147.919998,162.949997,136.009995,148.479996,124.760002,172.100006,143.240005,126.269997,159.479996,134.5,149.639999,138.339996,121.389999,148.990005,123.540001,146.949997,165.380005,149.619995,172.389999,167.570007,163.619995,122.059998,173.070007,160.009995,162.740005,131.789993,151.490005,148.839996,147.110001,132.539993,160.550003,151.279999,137.350006,139.139999,149.240005,151.600006,127.139999,149.449997,169.75,146.800003,141.110001,153.490005,145.600006,148.029999,139.070007,166.229996,122.540001,134.869995,142.830002,167.229996,138.270004,125.059998,151.0,174.919998,172.190002,123.389999,141.660004,129.410004,126.849998,143.110001,126.739998,163.199997,144.979996,174.309998,130.460007,154.509995,126.209999,153.649994,154.529999,179.449997,175.600006,156.809998,168.880005,141.169998,149.699997,148.360001,171.520004,150.429993,174.779999,142.919998,130.360001,157.220001,148.559998,146.360001,125.910004,157.869995,145.860001,127.309998,143.160004,137.089996,142.919998,122.25,167.399994,143.389999,131.460007,144.5,148.470001,142.639999,148.309998,151.070007,140.089996,128.979996,137.130005,135.869995,141.559998,150.039993,139.5,149.259995,142.649994,135.429993,138.919998,138.880005,131.880005,126.599998,137.389999,122.410004,178.960007,134.429993,130.839996,122.150002,175.740005,163.169998,148.970001,139.960007,125.860001,150.960007,121.959999,140.419998,128.800003,145.639999,153.119995,147.270004,124.279999,134.320007,156.690002,164.919998,127.900002,137.270004,178.440002,151.210007,148.110001,178.199997,160.070007,142.020004,120.129997,149.029999,123.989998,119.900002,126.110001,172.119995,121.029999,163.639999,125.889999,155.350006,147.360001,174.610001,134.720001,168.880005,146.550003,150.649994,164.850006,161.789993,148.710007,147.070007,146.869995,149.710007,172.190002,165.320007,129.869995,157.350006,153.339996,136.330002,148.600006,145.380005,157.279999,121.209999,125.900002,173.190002,143.759995,167.300003,138.380005,130.889999,165.350006,142.940002,166.020004,133.5,171.179993,150.809998,130.919998,131.009995,145.110001,162.410004,161.509995,130.479996,135.389999,172.139999,148.850006,141.5,145.639999,161.020004,156.770004,120.529999,140.820007,148.279999,164.869995,171.139999,125.279999,141.660004,148.789993,164.770004,130.960007,172.550003,165.75,155.740005,124.379997,128.910004,124.849998,154.479996,136.720001,134.839996,142.479996,127.790001,155.960007,130.059998,148.889999,133.979996,142.809998,148.960007,135.130005,149.100006,146.399994,169.800003,146.139999,170.399994,138.199997,152.949997,172.169998,152.369995,128.699997,127.830002,165.809998,142.990005,155.110001,147.960007,150.770004,149.149994,157.649994,146.919998,160.240005,179.699997,133.110001,142.559998,125.43,122.940002,168.639999,146.350006,155.309998,170.210007,145.860001,150.699997,174.720001,149.990005,172.899994,127.849998,155.809998,161.380005,138.979996,121.779999,154.729996,164.509995,133.580002,145.860001,121.419998,172.990005,150.0,149.839996,129.740005,132.759995,165.289993,126.849998,148.690002,120.589996,139.229996,125.900002,172.0,165.300003,174.070007,136.910004,166.130005,125.120003,152.339996,156.789993,140.520004,132.300003,127.449997,170.089996,133.190002,150.720001,149.350006,138.929993,123.239998,124.970001,154.070007,148.759995,157.440002,161.410004,168.490005,144.220001,129.639999,134.990005,146.100006,137.440002,148.009995,120.089996,131.240005,116.360001,168.820007,171.830002,126.660004,156.570007],\"type\":\"scatter\"},{\"mode\":\"lines\",\"name\":\"predicted\",\"x\":[401,86,350,400,451,322,109,93,256,341,287,121,9,176,195,434,494,279,349,16,183,428,41,429,293,323,410,297,324,265,169,266,236,317,45,153,70,425,148,112,355,90,373,467,78,160,124,167,325,181,295,431,435,60,281,417,308,134,231,374,363,102,243,233,367,209,365,412,29,475,263,158,210,241,171,501,33,283,74,487,206,346,390,123,240,274,277,73,391,20,119,369,127,311,162,334,135,360,83,188,441,257,330,247,304,500,489,182,430,454,291,398,85,438,159,177,108,242,172,115,35,37,34,1,345,473,101,150,404,381,502,497,464,25,382,388,397,491,486,221,208,385,485,483,383,22,42,6,331,88,50,80,258,314,193,145,54,232,66,465,26,151,185,474,122,96,190,422,84,144,335,376,498,270,307,146,61,196,68,79,129,299,67,352,125,409,166,292,97,301,219,481,309,348,375,406,488,180,280,253,52,414,480,142,184,377,358,77,82,426,217,305,484,27,420,199,356,94,254,235,23,21,149,285,416,131,46,338,226,207,163,244,357,71,366,490,421,262,120,392,197,250,14,303,340,479,3,28,113,450,395,92,458,58,442,386,173,137,214,229,47,174,462,282,378,342,459,411,276,448,10,30,419,468,191,380,455,152,353,203,248,273,140,362,116,0,300,399,447,327,402,449,329,238,294,103,440,436,466,7,319,284,99,164,62,264,239,457,105,384,343,107,223,76,394,126,275,249,328,44,418,59,476,413,371,136,111,339,49,493,477,396,5,110,192,220,316,245,424,499,132,40,461,393,495,75,87,63,326,337,11,351],\"y\":[156.284013389331,136.99499474023642,153.16102941757282,156.2227784094926,159.34576238125078,151.44644998209776,138.4033992765195,137.4236395991052,147.40494131276364,152.60991459902726,149.30322568775392,139.13821903458026,132.27990129267997,142.50614292569202,143.66960754262152,158.30476772399805,161.97886651430179,148.81334584904675,153.09979443773443,132.70854615154875,142.93478778456077,157.93735784496766,134.2394206475086,157.99859282480605,149.67063556678428,151.50768496193615,156.83512820787655,149.91557548613787,151.56891994177454,147.9560561313092,142.07749806682324,148.0172911111476,146.18024171599575,151.14027508290576,134.4843605668622,141.0977383894089,136.0152350628221,157.7536529054525,140.79156349021693,138.5871042160347,153.4672043167648,137.23993465959,154.5694339538559,160.3255220586651,136.50511490152925,141.52638324827768,139.32192397409545,141.95502810714646,151.63015492161293,142.812317824884,149.79310552646106,158.12106278448286,158.36600270383644,135.40288526443814,148.93581580872353,157.26377306674533,150.5891602643602,139.9342737724794,145.87406681680375,154.63066893369432,153.95708415547196,137.97475441765076,146.6088865748645,145.99653677648055,154.20202407482554,144.52689726035905,154.07955411514877,156.95759816755333,133.5046008894479,160.81540189737225,147.83358617163242,141.4039132886009,144.58813224019747,146.48641661518772,142.19996802650004,162.40751137317054,133.74954080880147,149.05828576840034,136.26017498217567,161.550221655433,144.34319232084388,152.91608949821924,155.61042861110863,139.26068899425707,146.42518163534933,148.50717094985475,148.69087588936995,136.19894000233728,155.67166359094705,132.95348607090233,139.01574907490348,154.32449403450232,139.50562891361062,150.7728652038754,141.6488532079545,152.18126974015848,139.9955087523178,153.77337921595677,136.81128980072123,143.24096268375277,158.7334125828668,147.46617629260206,151.93632982080493,146.85382649421808,150.34422034500662,162.34627639333215,161.67269161510978,142.87355280472238,158.05982780464447,159.52946732076595,149.54816560710748,156.1003084498158,136.93375976039803,158.5497076433516,141.4651482684393,142.5673779055304,138.34216429668112,146.5476515950261,142.26120300633843,138.7708091555499,133.87201076847825,133.99448072815505,133.81077578863986,131.7900214539728,152.85485451838085,160.69293193769548,137.91351943781234,140.91403344989374,156.4677183288462,155.05931379256307,162.46874635300892,162.16257145381695,160.1418171191499,133.2596609700943,155.1205487724015,155.48795865143185,156.0390734699774,161.7951615747866,161.48898667559462,145.2617170184198,144.46566228052066,155.30425371191666,161.4277516957562,161.30528173607942,155.18178375223988,133.0759560305791,134.30065562734703,132.09619635316477,151.99756480064332,137.1174646999132,134.7905354660542,136.62758486120606,147.52741127244045,150.9565701433906,143.54713758294474,140.60785855070176,135.03547538540778,145.93530179664216,135.7702951434685,160.2030520989883,133.3208959499327,140.97526842973213,143.05725774423757,160.75416691753387,139.19945401441865,137.60734453862037,143.36343264342955,157.5699479659373,136.87252478055962,140.54662357086335,152.2425047199969,154.7531388933711,162.22380643365534,148.2622310305012,150.5279252845218,140.66909353054015,135.46412024427653,143.7308425224599,135.8927651031453,136.56634988136764,139.62809887328743,150.03804544581465,135.83153012330692,153.2834993772496,139.38315895393384,156.77389322803816,141.89379312730804,149.6094005869459,137.66857951845876,150.16051540549145,145.13924705874302,161.18281177640262,150.65039524419862,153.03855945789604,154.6919039135327,156.59018828852297,161.6114566352714,142.7510828450456,148.87458082888514,147.22123637324847,134.91300542573097,157.08006812723013,161.12157679656423,140.42415361118657,142.99602276439919,154.8143738732095,153.65090925628,136.44387992169086,136.75005482088284,157.8148878852909,145.01677709906622,150.40545532484504,161.3665167159178,133.38213092977108,157.4474780062605,143.9145474619751,153.5284392966032,137.4848745789436,147.28247135308686,146.11900673615733,133.1371910104175,133.01472105074072,140.85279847005535,149.18075572807712,157.2025380869069,139.7505688329642,134.5455955467006,152.42620965951207,145.56789191761177,144.40442730068227,141.71008818779288,146.67012155470292,153.5896742764416,136.07647004266047,154.14078909498716,161.73392659494817,157.50871298609889,147.77235119179403,139.07698405474187,155.73289857078544,143.79207750229833,147.03753143373328,132.58607619187194,150.28298536516823,152.54867961918887,161.06034181672584,131.9124914136496,133.44336590960947,138.6483391958731,159.28452740141236,155.9166035103006,137.36240461926678,159.77440724011953,135.28041530476133,158.7946475627052,155.36548869175505,142.32243798617682,140.1179787119946,144.83307215955105,145.75159685712697,134.606830526539,142.3836729660152,160.0193471594731,148.99705078856192,154.8756088530479,152.67114957886565,159.83564221995792,156.89636318771494,148.62964090953156,159.16205744173558,132.34113627251836,133.56583586928627,157.3862430264221,160.38675703850348,143.42466762326794,154.99807881272469,159.59070230060433,141.0365034095705,153.34473435708802,144.1594873813287,146.91506147405647,148.44593597001636,140.30168365150976,153.89584917563357,138.8320441353883,131.7287864741344,150.09928042565303,156.16154342965422,159.1008224618972,151.75262488128973,156.34524836916938,159.22329242157397,151.8750948409665,146.30271167567253,149.73187054662267,138.03598939748915,158.67217760302842,158.42723768367483,160.2642870788267,132.1574313330032,151.26274504258257,149.11952074823873,137.79104947813556,141.77132316763127,135.52535522411492,147.8948211514708,146.36394665551092,159.71317226028114,138.15845935716592,155.24301873207827,152.73238455870404,138.28092931684273,145.3841869780966,136.38264494185248,155.85536853046221,139.44439393377223,148.56840592969317,146.9762964538949,151.81385986112812,134.4231255870238,157.32500804658372,135.34165028459975,160.87663687721064,157.01883314739175,154.44696399417913,140.05674373215618,138.5258692361963,152.48744463935049,134.72930048621578,161.91763153446337,160.93787185704906,155.97783849013902,132.03496137332638,138.4646342563579,143.48590260310635,145.2004820385814,151.07904010306737,146.7313565345413,157.69241792561408,162.28504141349376,139.81180381280262,134.17818566767022,159.95811217963472,155.79413355062383,162.04010149414017,136.32140996201406,137.0562297200748,135.58659020395334,151.69138990145132,152.36497467967368,132.40237125235677,153.2222643974112],\"type\":\"scatter\"}],                        {\"template\":{\"data\":{\"barpolar\":[{\"marker\":{\"line\":{\"color\":\"#E5ECF6\",\"width\":0.5},\"pattern\":{\"fillmode\":\"overlay\",\"size\":10,\"solidity\":0.2}},\"type\":\"barpolar\"}],\"bar\":[{\"error_x\":{\"color\":\"#2a3f5f\"},\"error_y\":{\"color\":\"#2a3f5f\"},\"marker\":{\"line\":{\"color\":\"#E5ECF6\",\"width\":0.5},\"pattern\":{\"fillmode\":\"overlay\",\"size\":10,\"solidity\":0.2}},\"type\":\"bar\"}],\"carpet\":[{\"aaxis\":{\"endlinecolor\":\"#2a3f5f\",\"gridcolor\":\"white\",\"linecolor\":\"white\",\"minorgridcolor\":\"white\",\"startlinecolor\":\"#2a3f5f\"},\"baxis\":{\"endlinecolor\":\"#2a3f5f\",\"gridcolor\":\"white\",\"linecolor\":\"white\",\"minorgridcolor\":\"white\",\"startlinecolor\":\"#2a3f5f\"},\"type\":\"carpet\"}],\"choropleth\":[{\"colorbar\":{\"outlinewidth\":0,\"ticks\":\"\"},\"type\":\"choropleth\"}],\"contourcarpet\":[{\"colorbar\":{\"outlinewidth\":0,\"ticks\":\"\"},\"type\":\"contourcarpet\"}],\"contour\":[{\"colorbar\":{\"outlinewidth\":0,\"ticks\":\"\"},\"colorscale\":[[0.0,\"#0d0887\"],[0.1111111111111111,\"#46039f\"],[0.2222222222222222,\"#7201a8\"],[0.3333333333333333,\"#9c179e\"],[0.4444444444444444,\"#bd3786\"],[0.5555555555555556,\"#d8576b\"],[0.6666666666666666,\"#ed7953\"],[0.7777777777777778,\"#fb9f3a\"],[0.8888888888888888,\"#fdca26\"],[1.0,\"#f0f921\"]],\"type\":\"contour\"}],\"heatmapgl\":[{\"colorbar\":{\"outlinewidth\":0,\"ticks\":\"\"},\"colorscale\":[[0.0,\"#0d0887\"],[0.1111111111111111,\"#46039f\"],[0.2222222222222222,\"#7201a8\"],[0.3333333333333333,\"#9c179e\"],[0.4444444444444444,\"#bd3786\"],[0.5555555555555556,\"#d8576b\"],[0.6666666666666666,\"#ed7953\"],[0.7777777777777778,\"#fb9f3a\"],[0.8888888888888888,\"#fdca26\"],[1.0,\"#f0f921\"]],\"type\":\"heatmapgl\"}],\"heatmap\":[{\"colorbar\":{\"outlinewidth\":0,\"ticks\":\"\"},\"colorscale\":[[0.0,\"#0d0887\"],[0.1111111111111111,\"#46039f\"],[0.2222222222222222,\"#7201a8\"],[0.3333333333333333,\"#9c179e\"],[0.4444444444444444,\"#bd3786\"],[0.5555555555555556,\"#d8576b\"],[0.6666666666666666,\"#ed7953\"],[0.7777777777777778,\"#fb9f3a\"],[0.8888888888888888,\"#fdca26\"],[1.0,\"#f0f921\"]],\"type\":\"heatmap\"}],\"histogram2dcontour\":[{\"colorbar\":{\"outlinewidth\":0,\"ticks\":\"\"},\"colorscale\":[[0.0,\"#0d0887\"],[0.1111111111111111,\"#46039f\"],[0.2222222222222222,\"#7201a8\"],[0.3333333333333333,\"#9c179e\"],[0.4444444444444444,\"#bd3786\"],[0.5555555555555556,\"#d8576b\"],[0.6666666666666666,\"#ed7953\"],[0.7777777777777778,\"#fb9f3a\"],[0.8888888888888888,\"#fdca26\"],[1.0,\"#f0f921\"]],\"type\":\"histogram2dcontour\"}],\"histogram2d\":[{\"colorbar\":{\"outlinewidth\":0,\"ticks\":\"\"},\"colorscale\":[[0.0,\"#0d0887\"],[0.1111111111111111,\"#46039f\"],[0.2222222222222222,\"#7201a8\"],[0.3333333333333333,\"#9c179e\"],[0.4444444444444444,\"#bd3786\"],[0.5555555555555556,\"#d8576b\"],[0.6666666666666666,\"#ed7953\"],[0.7777777777777778,\"#fb9f3a\"],[0.8888888888888888,\"#fdca26\"],[1.0,\"#f0f921\"]],\"type\":\"histogram2d\"}],\"histogram\":[{\"marker\":{\"pattern\":{\"fillmode\":\"overlay\",\"size\":10,\"solidity\":0.2}},\"type\":\"histogram\"}],\"mesh3d\":[{\"colorbar\":{\"outlinewidth\":0,\"ticks\":\"\"},\"type\":\"mesh3d\"}],\"parcoords\":[{\"line\":{\"colorbar\":{\"outlinewidth\":0,\"ticks\":\"\"}},\"type\":\"parcoords\"}],\"pie\":[{\"automargin\":true,\"type\":\"pie\"}],\"scatter3d\":[{\"line\":{\"colorbar\":{\"outlinewidth\":0,\"ticks\":\"\"}},\"marker\":{\"colorbar\":{\"outlinewidth\":0,\"ticks\":\"\"}},\"type\":\"scatter3d\"}],\"scattercarpet\":[{\"marker\":{\"colorbar\":{\"outlinewidth\":0,\"ticks\":\"\"}},\"type\":\"scattercarpet\"}],\"scattergeo\":[{\"marker\":{\"colorbar\":{\"outlinewidth\":0,\"ticks\":\"\"}},\"type\":\"scattergeo\"}],\"scattergl\":[{\"marker\":{\"colorbar\":{\"outlinewidth\":0,\"ticks\":\"\"}},\"type\":\"scattergl\"}],\"scattermapbox\":[{\"marker\":{\"colorbar\":{\"outlinewidth\":0,\"ticks\":\"\"}},\"type\":\"scattermapbox\"}],\"scatterpolargl\":[{\"marker\":{\"colorbar\":{\"outlinewidth\":0,\"ticks\":\"\"}},\"type\":\"scatterpolargl\"}],\"scatterpolar\":[{\"marker\":{\"colorbar\":{\"outlinewidth\":0,\"ticks\":\"\"}},\"type\":\"scatterpolar\"}],\"scatter\":[{\"fillpattern\":{\"fillmode\":\"overlay\",\"size\":10,\"solidity\":0.2},\"type\":\"scatter\"}],\"scatterternary\":[{\"marker\":{\"colorbar\":{\"outlinewidth\":0,\"ticks\":\"\"}},\"type\":\"scatterternary\"}],\"surface\":[{\"colorbar\":{\"outlinewidth\":0,\"ticks\":\"\"},\"colorscale\":[[0.0,\"#0d0887\"],[0.1111111111111111,\"#46039f\"],[0.2222222222222222,\"#7201a8\"],[0.3333333333333333,\"#9c179e\"],[0.4444444444444444,\"#bd3786\"],[0.5555555555555556,\"#d8576b\"],[0.6666666666666666,\"#ed7953\"],[0.7777777777777778,\"#fb9f3a\"],[0.8888888888888888,\"#fdca26\"],[1.0,\"#f0f921\"]],\"type\":\"surface\"}],\"table\":[{\"cells\":{\"fill\":{\"color\":\"#EBF0F8\"},\"line\":{\"color\":\"white\"}},\"header\":{\"fill\":{\"color\":\"#C8D4E3\"},\"line\":{\"color\":\"white\"}},\"type\":\"table\"}]},\"layout\":{\"annotationdefaults\":{\"arrowcolor\":\"#2a3f5f\",\"arrowhead\":0,\"arrowwidth\":1},\"autotypenumbers\":\"strict\",\"coloraxis\":{\"colorbar\":{\"outlinewidth\":0,\"ticks\":\"\"}},\"colorscale\":{\"diverging\":[[0,\"#8e0152\"],[0.1,\"#c51b7d\"],[0.2,\"#de77ae\"],[0.3,\"#f1b6da\"],[0.4,\"#fde0ef\"],[0.5,\"#f7f7f7\"],[0.6,\"#e6f5d0\"],[0.7,\"#b8e186\"],[0.8,\"#7fbc41\"],[0.9,\"#4d9221\"],[1,\"#276419\"]],\"sequential\":[[0.0,\"#0d0887\"],[0.1111111111111111,\"#46039f\"],[0.2222222222222222,\"#7201a8\"],[0.3333333333333333,\"#9c179e\"],[0.4444444444444444,\"#bd3786\"],[0.5555555555555556,\"#d8576b\"],[0.6666666666666666,\"#ed7953\"],[0.7777777777777778,\"#fb9f3a\"],[0.8888888888888888,\"#fdca26\"],[1.0,\"#f0f921\"]],\"sequentialminus\":[[0.0,\"#0d0887\"],[0.1111111111111111,\"#46039f\"],[0.2222222222222222,\"#7201a8\"],[0.3333333333333333,\"#9c179e\"],[0.4444444444444444,\"#bd3786\"],[0.5555555555555556,\"#d8576b\"],[0.6666666666666666,\"#ed7953\"],[0.7777777777777778,\"#fb9f3a\"],[0.8888888888888888,\"#fdca26\"],[1.0,\"#f0f921\"]]},\"colorway\":[\"#636efa\",\"#EF553B\",\"#00cc96\",\"#ab63fa\",\"#FFA15A\",\"#19d3f3\",\"#FF6692\",\"#B6E880\",\"#FF97FF\",\"#FECB52\"],\"font\":{\"color\":\"#2a3f5f\"},\"geo\":{\"bgcolor\":\"white\",\"lakecolor\":\"white\",\"landcolor\":\"#E5ECF6\",\"showlakes\":true,\"showland\":true,\"subunitcolor\":\"white\"},\"hoverlabel\":{\"align\":\"left\"},\"hovermode\":\"closest\",\"mapbox\":{\"style\":\"light\"},\"paper_bgcolor\":\"white\",\"plot_bgcolor\":\"#E5ECF6\",\"polar\":{\"angularaxis\":{\"gridcolor\":\"white\",\"linecolor\":\"white\",\"ticks\":\"\"},\"bgcolor\":\"#E5ECF6\",\"radialaxis\":{\"gridcolor\":\"white\",\"linecolor\":\"white\",\"ticks\":\"\"}},\"scene\":{\"xaxis\":{\"backgroundcolor\":\"#E5ECF6\",\"gridcolor\":\"white\",\"gridwidth\":2,\"linecolor\":\"white\",\"showbackground\":true,\"ticks\":\"\",\"zerolinecolor\":\"white\"},\"yaxis\":{\"backgroundcolor\":\"#E5ECF6\",\"gridcolor\":\"white\",\"gridwidth\":2,\"linecolor\":\"white\",\"showbackground\":true,\"ticks\":\"\",\"zerolinecolor\":\"white\"},\"zaxis\":{\"backgroundcolor\":\"#E5ECF6\",\"gridcolor\":\"white\",\"gridwidth\":2,\"linecolor\":\"white\",\"showbackground\":true,\"ticks\":\"\",\"zerolinecolor\":\"white\"}},\"shapedefaults\":{\"line\":{\"color\":\"#2a3f5f\"}},\"ternary\":{\"aaxis\":{\"gridcolor\":\"white\",\"linecolor\":\"white\",\"ticks\":\"\"},\"baxis\":{\"gridcolor\":\"white\",\"linecolor\":\"white\",\"ticks\":\"\"},\"bgcolor\":\"#E5ECF6\",\"caxis\":{\"gridcolor\":\"white\",\"linecolor\":\"white\",\"ticks\":\"\"}},\"title\":{\"x\":0.05},\"xaxis\":{\"automargin\":true,\"gridcolor\":\"white\",\"linecolor\":\"white\",\"ticks\":\"\",\"title\":{\"standoff\":15},\"zerolinecolor\":\"white\",\"zerolinewidth\":2},\"yaxis\":{\"automargin\":true,\"gridcolor\":\"white\",\"linecolor\":\"white\",\"ticks\":\"\",\"title\":{\"standoff\":15},\"zerolinecolor\":\"white\",\"zerolinewidth\":2}}},\"title\":{\"text\":\"Stock Prices of APPLE\"},\"xaxis\":{\"title\":{\"font\":{\"color\":\"#7f7f7f\",\"family\":\"Courier New, monospace\",\"size\":18},\"text\":\"Day\"}},\"yaxis\":{\"title\":{\"font\":{\"color\":\"#7f7f7f\",\"family\":\"Courier New, monospace\",\"size\":18},\"text\":\"Price\"}}},                        {\"responsive\": true}                    ).then(function(){\n",
       "                            \n",
       "var gd = document.getElementById('60271ee9-7e35-473c-a40b-44b655c6ad45');\n",
       "var x = new MutationObserver(function (mutations, observer) {{\n",
       "        var display = window.getComputedStyle(gd).display;\n",
       "        if (!display || display === 'none') {{\n",
       "            console.log([gd, 'removed!']);\n",
       "            Plotly.purge(gd);\n",
       "            observer.disconnect();\n",
       "        }}\n",
       "}});\n",
       "\n",
       "// Listen for the removal of the full notebook cells\n",
       "var notebookContainer = gd.closest('#notebook-container');\n",
       "if (notebookContainer) {{\n",
       "    x.observe(notebookContainer, {childList: true});\n",
       "}}\n",
       "\n",
       "// Listen for the clearing of the current output cell\n",
       "var outputEl = gd.closest('.output');\n",
       "if (outputEl) {{\n",
       "    x.observe(outputEl, {childList: true});\n",
       "}}\n",
       "\n",
       "                        })                };                });            </script>        </div>"
      ]
     },
     "metadata": {},
     "output_type": "display_data"
    }
   ],
   "source": [
    "iplot(plot2)"
   ]
  },
  {
   "cell_type": "markdown",
   "id": "9a94f697",
   "metadata": {},
   "source": [
    "# KNN"
   ]
  },
  {
   "cell_type": "code",
   "execution_count": 18,
   "id": "c36a8d36",
   "metadata": {},
   "outputs": [],
   "source": [
    "from sklearn import neighbors\n",
    "from sklearn.model_selection import GridSearchCV\n",
    "from sklearn.preprocessing import MinMaxScaler\n",
    "scaler = MinMaxScaler(feature_range=(0, 1))"
   ]
  },
  {
   "cell_type": "code",
   "execution_count": 19,
   "id": "bcbe9735",
   "metadata": {},
   "outputs": [],
   "source": [
    "new_data = pd.DataFrame(index=range(0,len(apple_data)),columns=['Date', 'Close'])"
   ]
  },
  {
   "cell_type": "code",
   "execution_count": 20,
   "id": "26824087",
   "metadata": {},
   "outputs": [],
   "source": [
    "X_train_scaled = scaler.fit_transform(X_train)\n",
    "X_train = pd.DataFrame(X_train_scaled)\n",
    "X_test_scaled = scaler.fit_transform(X_test)\n",
    "X_test = pd.DataFrame(X_test_scaled)\n",
    "\n",
    "params = {'n_neighbors':[2,3,4,5,6,7,8,9]}\n",
    "knn = neighbors.KNeighborsRegressor()\n",
    "model = GridSearchCV(knn, params, cv=5)\n",
    "\n",
    "model.fit(X_train,Y_train)\n",
    "preds = model.predict(X_test)\n",
    "#plt.plot(preds)"
   ]
  },
  {
   "cell_type": "code",
   "execution_count": 21,
   "id": "606d76c6",
   "metadata": {},
   "outputs": [
    {
     "name": "stdout",
     "output_type": "stream",
     "text": [
      "18     133.720001\n",
      "306    164.320007\n",
      "104    128.100006\n",
      "4      121.779999\n",
      "156    146.149994\n",
      "          ...    \n",
      "407    151.000000\n",
      "17     134.869995\n",
      "260    179.300003\n",
      "202    146.830002\n",
      "354    157.960007\n",
      "Name: Close, Length: 152, dtype: float64\n"
     ]
    }
   ],
   "source": [
    "print(Y_test)"
   ]
  },
  {
   "cell_type": "code",
   "execution_count": 22,
   "id": "79a42610",
   "metadata": {},
   "outputs": [],
   "source": [
    "apple_data2 = pd.DataFrame({'Actual':Y_test, 'Predicted':preds})"
   ]
  },
  {
   "cell_type": "code",
   "execution_count": 23,
   "id": "32b355a7",
   "metadata": {},
   "outputs": [
    {
     "data": {
      "text/html": [
       "<div>\n",
       "<style scoped>\n",
       "    .dataframe tbody tr th:only-of-type {\n",
       "        vertical-align: middle;\n",
       "    }\n",
       "\n",
       "    .dataframe tbody tr th {\n",
       "        vertical-align: top;\n",
       "    }\n",
       "\n",
       "    .dataframe thead th {\n",
       "        text-align: right;\n",
       "    }\n",
       "</style>\n",
       "<table border=\"1\" class=\"dataframe\">\n",
       "  <thead>\n",
       "    <tr style=\"text-align: right;\">\n",
       "      <th></th>\n",
       "      <th>Actual</th>\n",
       "      <th>Predicted</th>\n",
       "    </tr>\n",
       "  </thead>\n",
       "  <tbody>\n",
       "    <tr>\n",
       "      <th>18</th>\n",
       "      <td>133.720001</td>\n",
       "      <td>132.017502</td>\n",
       "    </tr>\n",
       "    <tr>\n",
       "      <th>306</th>\n",
       "      <td>164.320007</td>\n",
       "      <td>167.200005</td>\n",
       "    </tr>\n",
       "    <tr>\n",
       "      <th>104</th>\n",
       "      <td>128.100006</td>\n",
       "      <td>130.397501</td>\n",
       "    </tr>\n",
       "    <tr>\n",
       "      <th>4</th>\n",
       "      <td>121.779999</td>\n",
       "      <td>123.202499</td>\n",
       "    </tr>\n",
       "    <tr>\n",
       "      <th>156</th>\n",
       "      <td>146.149994</td>\n",
       "      <td>147.517498</td>\n",
       "    </tr>\n",
       "    <tr>\n",
       "      <th>370</th>\n",
       "      <td>140.360001</td>\n",
       "      <td>140.450005</td>\n",
       "    </tr>\n",
       "    <tr>\n",
       "      <th>32</th>\n",
       "      <td>136.869995</td>\n",
       "      <td>130.737503</td>\n",
       "    </tr>\n",
       "    <tr>\n",
       "      <th>344</th>\n",
       "      <td>165.070007</td>\n",
       "      <td>167.687496</td>\n",
       "    </tr>\n",
       "    <tr>\n",
       "      <th>81</th>\n",
       "      <td>123.000000</td>\n",
       "      <td>121.162500</td>\n",
       "    </tr>\n",
       "    <tr>\n",
       "      <th>227</th>\n",
       "      <td>152.570007</td>\n",
       "      <td>148.940002</td>\n",
       "    </tr>\n",
       "  </tbody>\n",
       "</table>\n",
       "</div>"
      ],
      "text/plain": [
       "         Actual   Predicted\n",
       "18   133.720001  132.017502\n",
       "306  164.320007  167.200005\n",
       "104  128.100006  130.397501\n",
       "4    121.779999  123.202499\n",
       "156  146.149994  147.517498\n",
       "370  140.360001  140.450005\n",
       "32   136.869995  130.737503\n",
       "344  165.070007  167.687496\n",
       "81   123.000000  121.162500\n",
       "227  152.570007  148.940002"
      ]
     },
     "execution_count": 23,
     "metadata": {},
     "output_type": "execute_result"
    }
   ],
   "source": [
    "apple_data2.head(10)"
   ]
  },
  {
   "cell_type": "code",
   "execution_count": null,
   "id": "4c79ff7d",
   "metadata": {},
   "outputs": [],
   "source": []
  }
 ],
 "metadata": {
  "kernelspec": {
   "display_name": "Python 3 (ipykernel)",
   "language": "python",
   "name": "python3"
  },
  "language_info": {
   "codemirror_mode": {
    "name": "ipython",
    "version": 3
   },
   "file_extension": ".py",
   "mimetype": "text/x-python",
   "name": "python",
   "nbconvert_exporter": "python",
   "pygments_lexer": "ipython3",
   "version": "3.9.13"
  }
 },
 "nbformat": 4,
 "nbformat_minor": 5
}
